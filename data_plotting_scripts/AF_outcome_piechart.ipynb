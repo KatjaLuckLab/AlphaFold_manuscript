{
 "cells": [
  {
   "cell_type": "code",
   "execution_count": 1,
   "id": "southwest-robin",
   "metadata": {},
   "outputs": [],
   "source": [
    "import pandas as pd\n",
    "import numpy as np\n",
    "import scipy.stats as sp\n",
    "import matplotlib as mpl\n",
    "import matplotlib.pyplot as plt\n",
    "from matplotlib.lines import Line2D\n",
    "import matplotlib.patches as mpatches\n",
    "import seaborn as sns\n",
    "import sqlalchemy, db_utils, glob, os, requests, itertools, re\n",
    "from sklearn.metrics import roc_curve, auc, average_precision_score, roc_auc_score, precision_recall_curve, accuracy_score\n",
    "from matplotlib.ticker import (MultipleLocator, AutoMinorLocator)\n",
    "from statannotations.Annotator import Annotator\n",
    "plt.rcParams['axes.spines.top'] = False # remove top spine\n",
    "plt.rcParams['axes.spines.right'] = False # remove right spine\n",
    "plt.rcParams['pdf.fonttype'] = 42 # Set the fonttype to export fonts as font files\n",
    "plt.rcParams['font.family'] = 'Arial'\n",
    "sns.set_palette(\"colorblind\")\n",
    "global_fontsize = 12\n",
    "figsize = (3,3)\n",
    "legend_fontsize = 8\n",
    "bbox_to_anchor =(1.0, 1.0)\n",
    "connect = db_utils.get_connection()\n",
    "save_path= '/Volumes/imb-luckgr/imb-luckgr2/projects/AlphaFold/de_novo_predictions/Plots/AF_de_novo/'"
   ]
  },
  {
   "cell_type": "code",
   "execution_count": 2,
   "id": "boxed-passenger",
   "metadata": {},
   "outputs": [
    {
     "data": {
      "text/html": [
       "<div>\n",
       "<style scoped>\n",
       "    .dataframe tbody tr th:only-of-type {\n",
       "        vertical-align: middle;\n",
       "    }\n",
       "\n",
       "    .dataframe tbody tr th {\n",
       "        vertical-align: top;\n",
       "    }\n",
       "\n",
       "    .dataframe thead th {\n",
       "        text-align: right;\n",
       "    }\n",
       "</style>\n",
       "<table border=\"1\" class=\"dataframe\">\n",
       "  <thead>\n",
       "    <tr style=\"text-align: right;\">\n",
       "      <th></th>\n",
       "      <th>AF_outcome</th>\n",
       "      <th>count</th>\n",
       "    </tr>\n",
       "  </thead>\n",
       "  <tbody>\n",
       "    <tr>\n",
       "      <th>0</th>\n",
       "      <td>No prediction performed</td>\n",
       "      <td>5</td>\n",
       "    </tr>\n",
       "    <tr>\n",
       "      <th>1</th>\n",
       "      <td>Wrong</td>\n",
       "      <td>3</td>\n",
       "    </tr>\n",
       "    <tr>\n",
       "      <th>2</th>\n",
       "      <td>Likely wrong</td>\n",
       "      <td>14</td>\n",
       "    </tr>\n",
       "    <tr>\n",
       "      <th>3</th>\n",
       "      <td>No result obtained</td>\n",
       "      <td>11</td>\n",
       "    </tr>\n",
       "    <tr>\n",
       "      <th>4</th>\n",
       "      <td>Likely correct</td>\n",
       "      <td>12</td>\n",
       "    </tr>\n",
       "    <tr>\n",
       "      <th>5</th>\n",
       "      <td>Questionable</td>\n",
       "      <td>16</td>\n",
       "    </tr>\n",
       "    <tr>\n",
       "      <th>6</th>\n",
       "      <td>Correct</td>\n",
       "      <td>6</td>\n",
       "    </tr>\n",
       "  </tbody>\n",
       "</table>\n",
       "</div>"
      ],
      "text/plain": [
       "                AF_outcome  count\n",
       "0  No prediction performed      5\n",
       "1                    Wrong      3\n",
       "2             Likely wrong     14\n",
       "3       No result obtained     11\n",
       "4           Likely correct     12\n",
       "5             Questionable     16\n",
       "6                  Correct      6"
      ]
     },
     "execution_count": 2,
     "metadata": {},
     "output_type": "execute_result"
    }
   ],
   "source": [
    "query = \"\"\"select AF_outcome, count(*) as count from chopyan_db.NDD_NDD_PPI_AF_results\n",
    "group by AF_outcome;\"\"\"\n",
    "df = pd.read_sql_query(query,con=connect)\n",
    "df.replace({None:\"No prediction performed\",\"no prediction\":\"No result obtained\",\n",
    "            \"false positive\":\"Wrong\",\"likely wrong\":\"Likely wrong\",\"potential de novo\":\"Likely correct\",\n",
    "           \"questionable\":\"Questionable\",\"true positive\":\"Correct\"},inplace=True)\n",
    "df"
   ]
  },
  {
   "cell_type": "code",
   "execution_count": 3,
   "id": "toxic-aluminum",
   "metadata": {},
   "outputs": [
    {
     "data": {
      "image/png": "[encoded data removed]",
      "text/plain": [
       "<Figure size 216x216 with 1 Axes>"
      ]
     },
     "metadata": {},
     "output_type": "display_data"
    }
   ],
   "source": [
    "# plot the piechart to show the count in every AF_outcome\n",
    "temp = df.copy()\n",
    "\n",
    "data_dict = {index:values for index,values in zip(temp['AF_outcome'],temp['count'])}\n",
    "\n",
    "outcome_order = [\"Correct\",\"Likely correct\",\"Questionable\",\"Likely wrong\",\"Wrong\",\"No result obtained\",\n",
    "                \"No prediction performed\"]\n",
    "\n",
    "#define Seaborn color palette to use\n",
    "colors = dict(zip(outcome_order,[\"green\",\"blue\",\"lightblue\",\"orange\",\"red\",\"black\",\"grey\"]))\n",
    "\n",
    "#create pie chart\n",
    "fig, ax = plt.subplots(figsize=figsize)\n",
    "\n",
    "ax.pie([data_dict[value] for value in outcome_order], labels=outcome_order,\n",
    "                       colors=[colors.get(outcome) for outcome in outcome_order],autopct=lambda x: f'{int((x*sum(data_dict.values())/100.0)+0.5)}',\n",
    "                       textprops={'fontsize': global_fontsize},counterclock=False,startangle=90,\n",
    "                      wedgeprops={\"alpha\":0.6})\n",
    "\n",
    "\n",
    "plt.savefig(f'{save_path}AF_outcome_piechart.pdf',\n",
    "           bbox_inches='tight',transparent=True)\n",
    "plt.savefig(f'{save_path}AF_outcomepiechart.jpeg',dpi=300,\n",
    "           bbox_inches='tight',transparent=True)\n",
    "plt.show()"
   ]
  },
  {
   "cell_type": "code",
   "execution_count": null,
   "id": "exceptional-basketball",
   "metadata": {},
   "outputs": [],
   "source": []
  }
 ],
 "metadata": {
  "kernelspec": {
   "display_name": "Python 3 (ipykernel)",
   "language": "python",
   "name": "python3"
  },
  "language_info": {
   "codemirror_mode": {
    "name": "ipython",
    "version": 3
   },
   "file_extension": ".py",
   "mimetype": "text/x-python",
   "name": "python",
   "nbconvert_exporter": "python",
   "pygments_lexer": "ipython3",
   "version": "3.11.2"
  }
 },
 "nbformat": 4,
 "nbformat_minor": 5
}
