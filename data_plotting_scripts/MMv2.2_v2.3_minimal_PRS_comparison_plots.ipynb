{
 "cells": [
  {
   "cell_type": "markdown",
   "id": "frank-painting",
   "metadata": {},
   "source": [
    "### This notebook contains the codes to generate all the plots used in the manuscript.\n",
    "### Author: Chop Yan Lee"
   ]
  },
  {
   "cell_type": "code",
   "execution_count": 2,
   "id": "increasing-banking",
   "metadata": {},
   "outputs": [],
   "source": [
    "import pandas as pd\n",
    "import numpy as np\n",
    "from pymol import cmd\n",
    "import plotly.graph_objects as go\n",
    "import matplotlib.pyplot as plt\n",
    "from matplotlib.lines import Line2D\n",
    "import seaborn as sns\n",
    "import scipy.stats as sp\n",
    "import glob, os, json, pickle, sqlalchemy, db_utils\n",
    "from sklearn.metrics import roc_curve, auc\n",
    "from matplotlib.ticker import (MultipleLocator, AutoMinorLocator)\n",
    "from statannotations.Annotator import Annotator\n",
    "plt.rcParams['axes.spines.top'] = False # remove top spine\n",
    "plt.rcParams['axes.spines.right'] = False # remove right spine\n",
    "plt.rcParams['pdf.fonttype'] = 42 # Set the fonttype to export fonts as font files\n",
    "plt.rcParams['font.family'] = 'Arial'\n",
    "sns.set_palette(\"colorblind\")\n",
    "global_fontsize = 12\n",
    "figsize = (3,3)\n",
    "legend_fontsize = 8\n",
    "bbox_to_anchor =(1, 1)\n",
    "global_color = 'tab:grey'\n",
    "connect = db_utils.get_connection()\n",
    "save_path= '/Volumes/imb-luckgr/projects/dmi_predictor/DMI_AF2_PRS/Plots/DMI_types_minimal/AF2_MMv2.2_v2.3_comparison/'"
   ]
  },
  {
   "cell_type": "code",
   "execution_count": 3,
   "id": "incorporated-dictionary",
   "metadata": {},
   "outputs": [],
   "source": [
    "def modify_ticks_and_labels(ax,x_major_multiple=None,x_minor_multiple=None,\n",
    "                            y_major_multiple=None,y_minor_multiple=None,change_markersize=False):\n",
    "    global global_fontsize\n",
    "    if x_major_multiple is not None:\n",
    "        ax.tick_params(axis='x', which='both',labelsize=global_fontsize)\n",
    "        ax.xaxis.set_major_locator(MultipleLocator(x_major_multiple))\n",
    "        ax.xaxis.set_minor_locator(MultipleLocator(x_minor_multiple))\n",
    "    if y_major_multiple is not None:\n",
    "        ax.tick_params(axis='y', which='both',labelsize=global_fontsize)\n",
    "        ax.yaxis.set_major_locator(MultipleLocator(y_major_multiple))\n",
    "        ax.yaxis.set_minor_locator(MultipleLocator(y_minor_multiple))\n",
    "    if change_markersize:\n",
    "        plt.setp(ax.xaxis.get_majorticklines(), 'markersize', 5)\n",
    "        plt.setp(ax.xaxis.get_majorticklines(), 'markeredgewidth', 2)\n",
    "        plt.setp(ax.xaxis.get_minorticklines(), 'markersize', 3.5)\n",
    "        plt.setp(ax.xaxis.get_minorticklines(), 'markeredgewidth', 2)\n",
    "        plt.setp(ax.yaxis.get_majorticklines(), 'markersize', 5)\n",
    "        plt.setp(ax.yaxis.get_majorticklines(), 'markeredgewidth', 2)\n",
    "        plt.setp(ax.yaxis.get_minorticklines(), 'markersize', 3.5)\n",
    "        plt.setp(ax.yaxis.get_minorticklines(), 'markeredgewidth', 2)\n",
    "    plt.tick_params(axis= 'both', labelsize= global_fontsize)"
   ]
  },
  {
   "cell_type": "code",
   "execution_count": 4,
   "id": "according-pottery",
   "metadata": {},
   "outputs": [],
   "source": [
    "def parse_prediction_name(prediction_name):\n",
    "    \"\"\"Parse out different components in the standard name for a minimal DMI prediction (e.g. run37_DEG_APCC_KENBOX_2_4GGD)\n",
    "\n",
    "    Args:\n",
    "        prediction_name (str): Name of the folder containing the AlphaFold predicted structure\n",
    "\n",
    "    Returns:\n",
    "        run_id (str): Run ID\n",
    "        dmi_name (str): Name of DMI type\n",
    "        pdb_id (str): PDB ID\n",
    "    \"\"\"\n",
    "    splits = prediction_name.split('_')\n",
    "    run_id = splits[0]\n",
    "    dmi_name = '_'.join(splits[1:-1])\n",
    "    pdb_id = splits[-1]\n",
    "    return [run_id, dmi_name, pdb_id]"
   ]
  },
  {
   "cell_type": "code",
   "execution_count": 5,
   "id": "minute-determination",
   "metadata": {},
   "outputs": [
    {
     "name": "stdout",
     "output_type": "stream",
     "text": [
      "(680, 29)\n",
      "(136, 29)\n"
     ]
    },
    {
     "data": {
      "text/html": [
       "<div>\n",
       "<style scoped>\n",
       "    .dataframe tbody tr th:only-of-type {\n",
       "        vertical-align: middle;\n",
       "    }\n",
       "\n",
       "    .dataframe tbody tr th {\n",
       "        vertical-align: top;\n",
       "    }\n",
       "\n",
       "    .dataframe thead th {\n",
       "        text-align: right;\n",
       "    }\n",
       "</style>\n",
       "<table border=\"1\" class=\"dataframe\">\n",
       "  <thead>\n",
       "    <tr style=\"text-align: right;\">\n",
       "      <th></th>\n",
       "      <th>project_name</th>\n",
       "      <th>prediction_name</th>\n",
       "      <th>run_id</th>\n",
       "      <th>chainA_length</th>\n",
       "      <th>chainB_length</th>\n",
       "      <th>model_id</th>\n",
       "      <th>model_confidence</th>\n",
       "      <th>chainA_intf_avg_plddt</th>\n",
       "      <th>chainB_intf_avg_plddt</th>\n",
       "      <th>intf_avg_plddt</th>\n",
       "      <th>...</th>\n",
       "      <th>num_align_resi_domain</th>\n",
       "      <th>RMSD_backbone_peptide</th>\n",
       "      <th>RMSD_all_atom_peptide</th>\n",
       "      <th>known_motif_plddt</th>\n",
       "      <th>DockQ</th>\n",
       "      <th>iRMS</th>\n",
       "      <th>LRMS</th>\n",
       "      <th>Fnonnat</th>\n",
       "      <th>dmi_name</th>\n",
       "      <th>pdb_id</th>\n",
       "    </tr>\n",
       "  </thead>\n",
       "  <tbody>\n",
       "    <tr>\n",
       "      <th>0</th>\n",
       "      <td>AlphaFold_benchmark</td>\n",
       "      <td>run37_DEG_SIAH_1_2A25</td>\n",
       "      <td>run37</td>\n",
       "      <td>193</td>\n",
       "      <td>9</td>\n",
       "      <td>ranked_3</td>\n",
       "      <td>0.920907</td>\n",
       "      <td>96.165000</td>\n",
       "      <td>92.233334</td>\n",
       "      <td>95.023548</td>\n",
       "      <td>...</td>\n",
       "      <td>146</td>\n",
       "      <td>0.506651</td>\n",
       "      <td>0.787199</td>\n",
       "      <td>None</td>\n",
       "      <td>0.959</td>\n",
       "      <td>0.481</td>\n",
       "      <td>0.492</td>\n",
       "      <td>0.133</td>\n",
       "      <td>DEG_SIAH_1</td>\n",
       "      <td>2A25</td>\n",
       "    </tr>\n",
       "    <tr>\n",
       "      <th>1</th>\n",
       "      <td>AlphaFold_benchmark</td>\n",
       "      <td>run37_DOC_USP7_MATH_1_3MQS</td>\n",
       "      <td>run37</td>\n",
       "      <td>143</td>\n",
       "      <td>5</td>\n",
       "      <td>ranked_0</td>\n",
       "      <td>0.923664</td>\n",
       "      <td>98.181667</td>\n",
       "      <td>93.685999</td>\n",
       "      <td>96.859411</td>\n",
       "      <td>...</td>\n",
       "      <td>137</td>\n",
       "      <td>0.608205</td>\n",
       "      <td>0.795526</td>\n",
       "      <td>None</td>\n",
       "      <td>0.976</td>\n",
       "      <td>0.398</td>\n",
       "      <td>0.589</td>\n",
       "      <td>0.200</td>\n",
       "      <td>DOC_USP7_MATH_1</td>\n",
       "      <td>3MQS</td>\n",
       "    </tr>\n",
       "    <tr>\n",
       "      <th>2</th>\n",
       "      <td>AlphaFold_benchmark</td>\n",
       "      <td>run37_DOC_PP2B_PxIxI_1_4F0Z</td>\n",
       "      <td>run37</td>\n",
       "      <td>292</td>\n",
       "      <td>7</td>\n",
       "      <td>ranked_0</td>\n",
       "      <td>0.950851</td>\n",
       "      <td>97.779376</td>\n",
       "      <td>93.825715</td>\n",
       "      <td>96.576088</td>\n",
       "      <td>...</td>\n",
       "      <td>292</td>\n",
       "      <td>0.420731</td>\n",
       "      <td>0.811035</td>\n",
       "      <td>None</td>\n",
       "      <td>0.959</td>\n",
       "      <td>0.385</td>\n",
       "      <td>0.445</td>\n",
       "      <td>0.000</td>\n",
       "      <td>DOC_PP2B_PxIxI_1</td>\n",
       "      <td>4F0Z</td>\n",
       "    </tr>\n",
       "    <tr>\n",
       "      <th>3</th>\n",
       "      <td>AlphaFold_benchmark</td>\n",
       "      <td>run37_DEG_Kelch_Keap1_1_2FLU</td>\n",
       "      <td>run37</td>\n",
       "      <td>285</td>\n",
       "      <td>6</td>\n",
       "      <td>ranked_1</td>\n",
       "      <td>0.938596</td>\n",
       "      <td>98.748889</td>\n",
       "      <td>88.666667</td>\n",
       "      <td>96.228333</td>\n",
       "      <td>...</td>\n",
       "      <td>285</td>\n",
       "      <td>0.436000</td>\n",
       "      <td>0.914587</td>\n",
       "      <td>None</td>\n",
       "      <td>0.968</td>\n",
       "      <td>0.397</td>\n",
       "      <td>0.431</td>\n",
       "      <td>0.057</td>\n",
       "      <td>DEG_Kelch_Keap1_1</td>\n",
       "      <td>2FLU</td>\n",
       "    </tr>\n",
       "    <tr>\n",
       "      <th>4</th>\n",
       "      <td>AlphaFold_benchmark</td>\n",
       "      <td>run37_LIG_TRAF2_2_1CZY</td>\n",
       "      <td>run37</td>\n",
       "      <td>168</td>\n",
       "      <td>6</td>\n",
       "      <td>ranked_3</td>\n",
       "      <td>0.861203</td>\n",
       "      <td>97.032381</td>\n",
       "      <td>82.186666</td>\n",
       "      <td>93.733333</td>\n",
       "      <td>...</td>\n",
       "      <td>168</td>\n",
       "      <td>0.643906</td>\n",
       "      <td>0.914688</td>\n",
       "      <td>None</td>\n",
       "      <td>0.961</td>\n",
       "      <td>0.375</td>\n",
       "      <td>0.638</td>\n",
       "      <td>0.000</td>\n",
       "      <td>LIG_TRAF2_2</td>\n",
       "      <td>1CZY</td>\n",
       "    </tr>\n",
       "  </tbody>\n",
       "</table>\n",
       "<p>5 rows × 29 columns</p>\n",
       "</div>"
      ],
      "text/plain": [
       "          project_name               prediction_name run_id  chainA_length  \\\n",
       "0  AlphaFold_benchmark         run37_DEG_SIAH_1_2A25  run37            193   \n",
       "1  AlphaFold_benchmark    run37_DOC_USP7_MATH_1_3MQS  run37            143   \n",
       "2  AlphaFold_benchmark   run37_DOC_PP2B_PxIxI_1_4F0Z  run37            292   \n",
       "3  AlphaFold_benchmark  run37_DEG_Kelch_Keap1_1_2FLU  run37            285   \n",
       "4  AlphaFold_benchmark        run37_LIG_TRAF2_2_1CZY  run37            168   \n",
       "\n",
       "   chainB_length  model_id  model_confidence  chainA_intf_avg_plddt  \\\n",
       "0              9  ranked_3          0.920907              96.165000   \n",
       "1              5  ranked_0          0.923664              98.181667   \n",
       "2              7  ranked_0          0.950851              97.779376   \n",
       "3              6  ranked_1          0.938596              98.748889   \n",
       "4              6  ranked_3          0.861203              97.032381   \n",
       "\n",
       "   chainB_intf_avg_plddt  intf_avg_plddt  ...  num_align_resi_domain  \\\n",
       "0              92.233334       95.023548  ...                    146   \n",
       "1              93.685999       96.859411  ...                    137   \n",
       "2              93.825715       96.576088  ...                    292   \n",
       "3              88.666667       96.228333  ...                    285   \n",
       "4              82.186666       93.733333  ...                    168   \n",
       "\n",
       "   RMSD_backbone_peptide  RMSD_all_atom_peptide  known_motif_plddt  DockQ  \\\n",
       "0               0.506651               0.787199               None  0.959   \n",
       "1               0.608205               0.795526               None  0.976   \n",
       "2               0.420731               0.811035               None  0.959   \n",
       "3               0.436000               0.914587               None  0.968   \n",
       "4               0.643906               0.914688               None  0.961   \n",
       "\n",
       "    iRMS   LRMS  Fnonnat           dmi_name  pdb_id  \n",
       "0  0.481  0.492    0.133         DEG_SIAH_1    2A25  \n",
       "1  0.398  0.589    0.200    DOC_USP7_MATH_1    3MQS  \n",
       "2  0.385  0.445    0.000   DOC_PP2B_PxIxI_1    4F0Z  \n",
       "3  0.397  0.431    0.057  DEG_Kelch_Keap1_1    2FLU  \n",
       "4  0.375  0.638    0.000        LIG_TRAF2_2    1CZY  \n",
       "\n",
       "[5 rows x 29 columns]"
      ]
     },
     "execution_count": 5,
     "metadata": {},
     "output_type": "execute_result"
    }
   ],
   "source": [
    "# Gather information of run37 which was predicted with template and without using precomputed msas\n",
    "query = \"\"\"select * from chopyan_db.AlphaFold_prediction_result\n",
    "where run_id = 'run37' and project_name = 'AlphaFold_benchmark';\"\"\"\n",
    "# read in processed info\n",
    "run37 = pd.read_sql_query(query,con=connect)\n",
    "\n",
    "run37[['run_id','dmi_name','pdb_id']] = run37.apply(lambda x: parse_prediction_name(x['prediction_name']),\n",
    "                                                                        axis=1,result_type='expand')\n",
    "print(run37.shape)\n",
    "\n",
    "# I also only work with the best model as selected by the least RMSD_all_atom_peptide per predicton,\n",
    "# the de-duplication will filter for best model per prediction\n",
    "run37 = run37.sort_values(['RMSD_all_atom_peptide'],ascending=True).drop_duplicates(subset=['dmi_name','chainA_length',\n",
    "                                                                           'chainB_length'],keep='first').copy()\n",
    "run37.reset_index(drop=True,inplace=True)\n",
    "print(run37.shape)\n",
    "\n",
    "run37.head()"
   ]
  },
  {
   "cell_type": "code",
   "execution_count": 6,
   "id": "material-brain",
   "metadata": {},
   "outputs": [
    {
     "name": "stdout",
     "output_type": "stream",
     "text": [
      "(680, 29)\n",
      "(136, 29)\n"
     ]
    },
    {
     "data": {
      "text/html": [
       "<div>\n",
       "<style scoped>\n",
       "    .dataframe tbody tr th:only-of-type {\n",
       "        vertical-align: middle;\n",
       "    }\n",
       "\n",
       "    .dataframe tbody tr th {\n",
       "        vertical-align: top;\n",
       "    }\n",
       "\n",
       "    .dataframe thead th {\n",
       "        text-align: right;\n",
       "    }\n",
       "</style>\n",
       "<table border=\"1\" class=\"dataframe\">\n",
       "  <thead>\n",
       "    <tr style=\"text-align: right;\">\n",
       "      <th></th>\n",
       "      <th>project_name</th>\n",
       "      <th>prediction_name</th>\n",
       "      <th>run_id</th>\n",
       "      <th>chainA_length</th>\n",
       "      <th>chainB_length</th>\n",
       "      <th>model_id</th>\n",
       "      <th>model_confidence</th>\n",
       "      <th>chainA_intf_avg_plddt</th>\n",
       "      <th>chainB_intf_avg_plddt</th>\n",
       "      <th>intf_avg_plddt</th>\n",
       "      <th>...</th>\n",
       "      <th>num_align_resi_domain</th>\n",
       "      <th>RMSD_backbone_peptide</th>\n",
       "      <th>RMSD_all_atom_peptide</th>\n",
       "      <th>known_motif_plddt</th>\n",
       "      <th>DockQ</th>\n",
       "      <th>iRMS</th>\n",
       "      <th>LRMS</th>\n",
       "      <th>Fnonnat</th>\n",
       "      <th>dmi_name</th>\n",
       "      <th>pdb_id</th>\n",
       "    </tr>\n",
       "  </thead>\n",
       "  <tbody>\n",
       "    <tr>\n",
       "      <th>0</th>\n",
       "      <td>AlphaFold_benchmark</td>\n",
       "      <td>run48_DOC_USP7_MATH_1_3MQS</td>\n",
       "      <td>run48</td>\n",
       "      <td>143</td>\n",
       "      <td>5</td>\n",
       "      <td>ranked_0</td>\n",
       "      <td>0.934844</td>\n",
       "      <td>98.136665</td>\n",
       "      <td>93.456000</td>\n",
       "      <td>96.759999</td>\n",
       "      <td>...</td>\n",
       "      <td>137</td>\n",
       "      <td>0.550012</td>\n",
       "      <td>0.670959</td>\n",
       "      <td>None</td>\n",
       "      <td>0.978</td>\n",
       "      <td>0.387</td>\n",
       "      <td>0.555</td>\n",
       "      <td>0.167</td>\n",
       "      <td>DOC_USP7_MATH_1</td>\n",
       "      <td>3MQS</td>\n",
       "    </tr>\n",
       "    <tr>\n",
       "      <th>1</th>\n",
       "      <td>AlphaFold_benchmark</td>\n",
       "      <td>run48_DEG_SPOP_SBC_1_3HQM</td>\n",
       "      <td>run48</td>\n",
       "      <td>137</td>\n",
       "      <td>5</td>\n",
       "      <td>ranked_4</td>\n",
       "      <td>0.922114</td>\n",
       "      <td>98.384000</td>\n",
       "      <td>93.250000</td>\n",
       "      <td>97.100500</td>\n",
       "      <td>...</td>\n",
       "      <td>132</td>\n",
       "      <td>0.776712</td>\n",
       "      <td>0.699910</td>\n",
       "      <td>None</td>\n",
       "      <td>0.969</td>\n",
       "      <td>0.327</td>\n",
       "      <td>0.844</td>\n",
       "      <td>0.037</td>\n",
       "      <td>DEG_SPOP_SBC_1</td>\n",
       "      <td>3HQM</td>\n",
       "    </tr>\n",
       "    <tr>\n",
       "      <th>2</th>\n",
       "      <td>AlphaFold_benchmark</td>\n",
       "      <td>run48_DEG_SIAH_1_2A25</td>\n",
       "      <td>run48</td>\n",
       "      <td>193</td>\n",
       "      <td>9</td>\n",
       "      <td>ranked_3</td>\n",
       "      <td>0.931102</td>\n",
       "      <td>96.314286</td>\n",
       "      <td>93.671111</td>\n",
       "      <td>95.521334</td>\n",
       "      <td>...</td>\n",
       "      <td>146</td>\n",
       "      <td>0.434531</td>\n",
       "      <td>0.731597</td>\n",
       "      <td>None</td>\n",
       "      <td>0.961</td>\n",
       "      <td>0.472</td>\n",
       "      <td>0.442</td>\n",
       "      <td>0.114</td>\n",
       "      <td>DEG_SIAH_1</td>\n",
       "      <td>2A25</td>\n",
       "    </tr>\n",
       "    <tr>\n",
       "      <th>3</th>\n",
       "      <td>AlphaFold_benchmark</td>\n",
       "      <td>run48_DOC_PP2B_PxIxI_1_4F0Z</td>\n",
       "      <td>run48</td>\n",
       "      <td>292</td>\n",
       "      <td>7</td>\n",
       "      <td>ranked_2</td>\n",
       "      <td>0.958944</td>\n",
       "      <td>98.275625</td>\n",
       "      <td>94.781430</td>\n",
       "      <td>97.212174</td>\n",
       "      <td>...</td>\n",
       "      <td>292</td>\n",
       "      <td>0.413751</td>\n",
       "      <td>0.787736</td>\n",
       "      <td>None</td>\n",
       "      <td>0.958</td>\n",
       "      <td>0.393</td>\n",
       "      <td>0.450</td>\n",
       "      <td>0.000</td>\n",
       "      <td>DOC_PP2B_PxIxI_1</td>\n",
       "      <td>4F0Z</td>\n",
       "    </tr>\n",
       "    <tr>\n",
       "      <th>4</th>\n",
       "      <td>AlphaFold_benchmark</td>\n",
       "      <td>run48_DOC_ANK_TNKS_1_3TWU</td>\n",
       "      <td>run48</td>\n",
       "      <td>160</td>\n",
       "      <td>8</td>\n",
       "      <td>ranked_0</td>\n",
       "      <td>0.934079</td>\n",
       "      <td>98.609412</td>\n",
       "      <td>94.977499</td>\n",
       "      <td>97.447200</td>\n",
       "      <td>...</td>\n",
       "      <td>160</td>\n",
       "      <td>0.614377</td>\n",
       "      <td>0.792328</td>\n",
       "      <td>None</td>\n",
       "      <td>0.979</td>\n",
       "      <td>0.372</td>\n",
       "      <td>0.620</td>\n",
       "      <td>0.083</td>\n",
       "      <td>DOC_ANK_TNKS_1</td>\n",
       "      <td>3TWU</td>\n",
       "    </tr>\n",
       "  </tbody>\n",
       "</table>\n",
       "<p>5 rows × 29 columns</p>\n",
       "</div>"
      ],
      "text/plain": [
       "          project_name              prediction_name run_id  chainA_length  \\\n",
       "0  AlphaFold_benchmark   run48_DOC_USP7_MATH_1_3MQS  run48            143   \n",
       "1  AlphaFold_benchmark    run48_DEG_SPOP_SBC_1_3HQM  run48            137   \n",
       "2  AlphaFold_benchmark        run48_DEG_SIAH_1_2A25  run48            193   \n",
       "3  AlphaFold_benchmark  run48_DOC_PP2B_PxIxI_1_4F0Z  run48            292   \n",
       "4  AlphaFold_benchmark    run48_DOC_ANK_TNKS_1_3TWU  run48            160   \n",
       "\n",
       "   chainB_length  model_id  model_confidence  chainA_intf_avg_plddt  \\\n",
       "0              5  ranked_0          0.934844              98.136665   \n",
       "1              5  ranked_4          0.922114              98.384000   \n",
       "2              9  ranked_3          0.931102              96.314286   \n",
       "3              7  ranked_2          0.958944              98.275625   \n",
       "4              8  ranked_0          0.934079              98.609412   \n",
       "\n",
       "   chainB_intf_avg_plddt  intf_avg_plddt  ...  num_align_resi_domain  \\\n",
       "0              93.456000       96.759999  ...                    137   \n",
       "1              93.250000       97.100500  ...                    132   \n",
       "2              93.671111       95.521334  ...                    146   \n",
       "3              94.781430       97.212174  ...                    292   \n",
       "4              94.977499       97.447200  ...                    160   \n",
       "\n",
       "  RMSD_backbone_peptide  RMSD_all_atom_peptide  known_motif_plddt  DockQ  \\\n",
       "0              0.550012               0.670959               None  0.978   \n",
       "1              0.776712               0.699910               None  0.969   \n",
       "2              0.434531               0.731597               None  0.961   \n",
       "3              0.413751               0.787736               None  0.958   \n",
       "4              0.614377               0.792328               None  0.979   \n",
       "\n",
       "    iRMS   LRMS  Fnonnat          dmi_name  pdb_id  \n",
       "0  0.387  0.555    0.167   DOC_USP7_MATH_1    3MQS  \n",
       "1  0.327  0.844    0.037    DEG_SPOP_SBC_1    3HQM  \n",
       "2  0.472  0.442    0.114        DEG_SIAH_1    2A25  \n",
       "3  0.393  0.450    0.000  DOC_PP2B_PxIxI_1    4F0Z  \n",
       "4  0.372  0.620    0.083    DOC_ANK_TNKS_1    3TWU  \n",
       "\n",
       "[5 rows x 29 columns]"
      ]
     },
     "execution_count": 6,
     "metadata": {},
     "output_type": "execute_result"
    }
   ],
   "source": [
    "# Gather information of run37 which was predicted with template and without using precomputed msas\n",
    "query = \"\"\"select * from chopyan_db.AlphaFold_prediction_result\n",
    "where run_id = 'run48' and project_name = 'AlphaFold_benchmark';\"\"\"\n",
    "# read in processed info\n",
    "run48 = pd.read_sql_query(query,con=connect)\n",
    "\n",
    "run48[['run_id','dmi_name','pdb_id']] = run48.apply(lambda x: parse_prediction_name(x['prediction_name']),\n",
    "                                                                        axis=1,result_type='expand')\n",
    "print(run48.shape)\n",
    "\n",
    "# I also only work with the best model as selected by the least RMSD_all_atom_peptide per predicton,\n",
    "# the de-duplication will filter for best model per prediction\n",
    "run48 = run48.sort_values(['RMSD_all_atom_peptide'],ascending=True).drop_duplicates(subset=['dmi_name','chainA_length',\n",
    "                                                                           'chainB_length'],keep='first').copy()\n",
    "run48.reset_index(drop=True,inplace=True)\n",
    "print(run48.shape)\n",
    "\n",
    "run48.head()"
   ]
  },
  {
   "cell_type": "code",
   "execution_count": 7,
   "id": "recovered-trail",
   "metadata": {},
   "outputs": [
    {
     "data": {
      "text/html": [
       "<div>\n",
       "<style scoped>\n",
       "    .dataframe tbody tr th:only-of-type {\n",
       "        vertical-align: middle;\n",
       "    }\n",
       "\n",
       "    .dataframe tbody tr th {\n",
       "        vertical-align: top;\n",
       "    }\n",
       "\n",
       "    .dataframe thead th {\n",
       "        text-align: right;\n",
       "    }\n",
       "</style>\n",
       "<table border=\"1\" class=\"dataframe\">\n",
       "  <thead>\n",
       "    <tr style=\"text-align: right;\">\n",
       "      <th></th>\n",
       "      <th>project_name_run37</th>\n",
       "      <th>prediction_name_run37</th>\n",
       "      <th>run_id_run37</th>\n",
       "      <th>chainA_length_run37</th>\n",
       "      <th>chainB_length_run37</th>\n",
       "      <th>model_id_run37</th>\n",
       "      <th>model_confidence_run37</th>\n",
       "      <th>chainA_intf_avg_plddt_run37</th>\n",
       "      <th>chainB_intf_avg_plddt_run37</th>\n",
       "      <th>intf_avg_plddt_run37</th>\n",
       "      <th>...</th>\n",
       "      <th>num_align_atoms_domain_run48</th>\n",
       "      <th>align_score_domain_run48</th>\n",
       "      <th>num_align_resi_domain_run48</th>\n",
       "      <th>RMSD_backbone_peptide_run48</th>\n",
       "      <th>RMSD_all_atom_peptide_run48</th>\n",
       "      <th>known_motif_plddt_run48</th>\n",
       "      <th>DockQ_run48</th>\n",
       "      <th>iRMS_run48</th>\n",
       "      <th>LRMS_run48</th>\n",
       "      <th>Fnonnat_run48</th>\n",
       "    </tr>\n",
       "  </thead>\n",
       "  <tbody>\n",
       "    <tr>\n",
       "      <th>0</th>\n",
       "      <td>AlphaFold_benchmark</td>\n",
       "      <td>run37_DEG_SIAH_1_2A25</td>\n",
       "      <td>run37</td>\n",
       "      <td>193</td>\n",
       "      <td>9</td>\n",
       "      <td>ranked_3</td>\n",
       "      <td>0.920907</td>\n",
       "      <td>96.165000</td>\n",
       "      <td>92.233334</td>\n",
       "      <td>95.023548</td>\n",
       "      <td>...</td>\n",
       "      <td>1159</td>\n",
       "      <td>748.5</td>\n",
       "      <td>146</td>\n",
       "      <td>0.434531</td>\n",
       "      <td>0.731597</td>\n",
       "      <td>None</td>\n",
       "      <td>0.961</td>\n",
       "      <td>0.472</td>\n",
       "      <td>0.442</td>\n",
       "      <td>0.114</td>\n",
       "    </tr>\n",
       "    <tr>\n",
       "      <th>1</th>\n",
       "      <td>AlphaFold_benchmark</td>\n",
       "      <td>run37_DOC_USP7_MATH_1_3MQS</td>\n",
       "      <td>run37</td>\n",
       "      <td>143</td>\n",
       "      <td>5</td>\n",
       "      <td>ranked_0</td>\n",
       "      <td>0.923664</td>\n",
       "      <td>98.181667</td>\n",
       "      <td>93.685999</td>\n",
       "      <td>96.859411</td>\n",
       "      <td>...</td>\n",
       "      <td>1134</td>\n",
       "      <td>733.5</td>\n",
       "      <td>137</td>\n",
       "      <td>0.550012</td>\n",
       "      <td>0.670959</td>\n",
       "      <td>None</td>\n",
       "      <td>0.978</td>\n",
       "      <td>0.387</td>\n",
       "      <td>0.555</td>\n",
       "      <td>0.167</td>\n",
       "    </tr>\n",
       "    <tr>\n",
       "      <th>2</th>\n",
       "      <td>AlphaFold_benchmark</td>\n",
       "      <td>run37_DOC_PP2B_PxIxI_1_4F0Z</td>\n",
       "      <td>run37</td>\n",
       "      <td>292</td>\n",
       "      <td>7</td>\n",
       "      <td>ranked_0</td>\n",
       "      <td>0.950851</td>\n",
       "      <td>97.779376</td>\n",
       "      <td>93.825715</td>\n",
       "      <td>96.576088</td>\n",
       "      <td>...</td>\n",
       "      <td>2382</td>\n",
       "      <td>1590.0</td>\n",
       "      <td>292</td>\n",
       "      <td>0.413751</td>\n",
       "      <td>0.787736</td>\n",
       "      <td>None</td>\n",
       "      <td>0.958</td>\n",
       "      <td>0.393</td>\n",
       "      <td>0.450</td>\n",
       "      <td>0.000</td>\n",
       "    </tr>\n",
       "    <tr>\n",
       "      <th>3</th>\n",
       "      <td>AlphaFold_benchmark</td>\n",
       "      <td>run37_DEG_Kelch_Keap1_1_2FLU</td>\n",
       "      <td>run37</td>\n",
       "      <td>285</td>\n",
       "      <td>6</td>\n",
       "      <td>ranked_1</td>\n",
       "      <td>0.938596</td>\n",
       "      <td>98.748889</td>\n",
       "      <td>88.666667</td>\n",
       "      <td>96.228333</td>\n",
       "      <td>...</td>\n",
       "      <td>2172</td>\n",
       "      <td>1552.0</td>\n",
       "      <td>285</td>\n",
       "      <td>0.281707</td>\n",
       "      <td>0.939188</td>\n",
       "      <td>None</td>\n",
       "      <td>0.970</td>\n",
       "      <td>0.377</td>\n",
       "      <td>0.291</td>\n",
       "      <td>0.057</td>\n",
       "    </tr>\n",
       "    <tr>\n",
       "      <th>4</th>\n",
       "      <td>AlphaFold_benchmark</td>\n",
       "      <td>run37_LIG_TRAF2_2_1CZY</td>\n",
       "      <td>run37</td>\n",
       "      <td>168</td>\n",
       "      <td>6</td>\n",
       "      <td>ranked_3</td>\n",
       "      <td>0.861203</td>\n",
       "      <td>97.032381</td>\n",
       "      <td>82.186666</td>\n",
       "      <td>93.733333</td>\n",
       "      <td>...</td>\n",
       "      <td>1282</td>\n",
       "      <td>881.0</td>\n",
       "      <td>168</td>\n",
       "      <td>0.657274</td>\n",
       "      <td>0.844578</td>\n",
       "      <td>None</td>\n",
       "      <td>0.978</td>\n",
       "      <td>0.374</td>\n",
       "      <td>0.657</td>\n",
       "      <td>0.000</td>\n",
       "    </tr>\n",
       "    <tr>\n",
       "      <th>...</th>\n",
       "      <td>...</td>\n",
       "      <td>...</td>\n",
       "      <td>...</td>\n",
       "      <td>...</td>\n",
       "      <td>...</td>\n",
       "      <td>...</td>\n",
       "      <td>...</td>\n",
       "      <td>...</td>\n",
       "      <td>...</td>\n",
       "      <td>...</td>\n",
       "      <td>...</td>\n",
       "      <td>...</td>\n",
       "      <td>...</td>\n",
       "      <td>...</td>\n",
       "      <td>...</td>\n",
       "      <td>...</td>\n",
       "      <td>...</td>\n",
       "      <td>...</td>\n",
       "      <td>...</td>\n",
       "      <td>...</td>\n",
       "      <td>...</td>\n",
       "    </tr>\n",
       "    <tr>\n",
       "      <th>131</th>\n",
       "      <td>AlphaFold_benchmark</td>\n",
       "      <td>run37_LIG_FAT_LD_1_3GM1</td>\n",
       "      <td>run37</td>\n",
       "      <td>140</td>\n",
       "      <td>9</td>\n",
       "      <td>ranked_3</td>\n",
       "      <td>0.885796</td>\n",
       "      <td>97.547857</td>\n",
       "      <td>87.994284</td>\n",
       "      <td>94.363333</td>\n",
       "      <td>...</td>\n",
       "      <td>1069</td>\n",
       "      <td>685.0</td>\n",
       "      <td>140</td>\n",
       "      <td>0.832044</td>\n",
       "      <td>1.250552</td>\n",
       "      <td>None</td>\n",
       "      <td>0.931</td>\n",
       "      <td>0.446</td>\n",
       "      <td>0.885</td>\n",
       "      <td>0.042</td>\n",
       "    </tr>\n",
       "    <tr>\n",
       "      <th>132</th>\n",
       "      <td>AlphaFold_benchmark</td>\n",
       "      <td>run37_LIG_Clathr_ClatBox_2_1UTC</td>\n",
       "      <td>run37</td>\n",
       "      <td>328</td>\n",
       "      <td>6</td>\n",
       "      <td>ranked_4</td>\n",
       "      <td>0.545352</td>\n",
       "      <td>91.812667</td>\n",
       "      <td>34.396000</td>\n",
       "      <td>77.458500</td>\n",
       "      <td>...</td>\n",
       "      <td>2561</td>\n",
       "      <td>1704.0</td>\n",
       "      <td>328</td>\n",
       "      <td>28.405018</td>\n",
       "      <td>28.349970</td>\n",
       "      <td>None</td>\n",
       "      <td>0.038</td>\n",
       "      <td>8.174</td>\n",
       "      <td>28.367</td>\n",
       "      <td>1.000</td>\n",
       "    </tr>\n",
       "    <tr>\n",
       "      <th>133</th>\n",
       "      <td>AlphaFold_benchmark</td>\n",
       "      <td>run37_DOC_PP1_MyPhoNE_1_1S70</td>\n",
       "      <td>run37</td>\n",
       "      <td>299</td>\n",
       "      <td>8</td>\n",
       "      <td>ranked_1</td>\n",
       "      <td>0.611319</td>\n",
       "      <td>92.971250</td>\n",
       "      <td>39.842500</td>\n",
       "      <td>75.261667</td>\n",
       "      <td>...</td>\n",
       "      <td>2391</td>\n",
       "      <td>1612.0</td>\n",
       "      <td>299</td>\n",
       "      <td>36.769054</td>\n",
       "      <td>37.004066</td>\n",
       "      <td>None</td>\n",
       "      <td>0.021</td>\n",
       "      <td>12.909</td>\n",
       "      <td>36.725</td>\n",
       "      <td>1.000</td>\n",
       "    </tr>\n",
       "    <tr>\n",
       "      <th>134</th>\n",
       "      <td>AlphaFold_benchmark</td>\n",
       "      <td>run37_LIG_APCC_ABBA_1_4BH6</td>\n",
       "      <td>run37</td>\n",
       "      <td>293</td>\n",
       "      <td>6</td>\n",
       "      <td>ranked_1</td>\n",
       "      <td>0.446541</td>\n",
       "      <td>94.432500</td>\n",
       "      <td>28.864000</td>\n",
       "      <td>69.213846</td>\n",
       "      <td>...</td>\n",
       "      <td>2277</td>\n",
       "      <td>1572.0</td>\n",
       "      <td>293</td>\n",
       "      <td>37.045300</td>\n",
       "      <td>37.126663</td>\n",
       "      <td>None</td>\n",
       "      <td>0.022</td>\n",
       "      <td>11.951</td>\n",
       "      <td>37.064</td>\n",
       "      <td>1.000</td>\n",
       "    </tr>\n",
       "    <tr>\n",
       "      <th>135</th>\n",
       "      <td>AlphaFold_benchmark</td>\n",
       "      <td>run37_LIG_AP2alpha_1_1KY7</td>\n",
       "      <td>run37</td>\n",
       "      <td>246</td>\n",
       "      <td>5</td>\n",
       "      <td>ranked_2</td>\n",
       "      <td>0.553339</td>\n",
       "      <td>95.563077</td>\n",
       "      <td>39.110000</td>\n",
       "      <td>82.280000</td>\n",
       "      <td>...</td>\n",
       "      <td>1945</td>\n",
       "      <td>1275.0</td>\n",
       "      <td>246</td>\n",
       "      <td>1.890467</td>\n",
       "      <td>2.272202</td>\n",
       "      <td>None</td>\n",
       "      <td>0.879</td>\n",
       "      <td>0.718</td>\n",
       "      <td>1.973</td>\n",
       "      <td>0.125</td>\n",
       "    </tr>\n",
       "  </tbody>\n",
       "</table>\n",
       "<p>136 rows × 56 columns</p>\n",
       "</div>"
      ],
      "text/plain": [
       "      project_name_run37            prediction_name_run37 run_id_run37  \\\n",
       "0    AlphaFold_benchmark            run37_DEG_SIAH_1_2A25        run37   \n",
       "1    AlphaFold_benchmark       run37_DOC_USP7_MATH_1_3MQS        run37   \n",
       "2    AlphaFold_benchmark      run37_DOC_PP2B_PxIxI_1_4F0Z        run37   \n",
       "3    AlphaFold_benchmark     run37_DEG_Kelch_Keap1_1_2FLU        run37   \n",
       "4    AlphaFold_benchmark           run37_LIG_TRAF2_2_1CZY        run37   \n",
       "..                   ...                              ...          ...   \n",
       "131  AlphaFold_benchmark          run37_LIG_FAT_LD_1_3GM1        run37   \n",
       "132  AlphaFold_benchmark  run37_LIG_Clathr_ClatBox_2_1UTC        run37   \n",
       "133  AlphaFold_benchmark     run37_DOC_PP1_MyPhoNE_1_1S70        run37   \n",
       "134  AlphaFold_benchmark       run37_LIG_APCC_ABBA_1_4BH6        run37   \n",
       "135  AlphaFold_benchmark        run37_LIG_AP2alpha_1_1KY7        run37   \n",
       "\n",
       "     chainA_length_run37  chainB_length_run37 model_id_run37  \\\n",
       "0                    193                    9       ranked_3   \n",
       "1                    143                    5       ranked_0   \n",
       "2                    292                    7       ranked_0   \n",
       "3                    285                    6       ranked_1   \n",
       "4                    168                    6       ranked_3   \n",
       "..                   ...                  ...            ...   \n",
       "131                  140                    9       ranked_3   \n",
       "132                  328                    6       ranked_4   \n",
       "133                  299                    8       ranked_1   \n",
       "134                  293                    6       ranked_1   \n",
       "135                  246                    5       ranked_2   \n",
       "\n",
       "     model_confidence_run37  chainA_intf_avg_plddt_run37  \\\n",
       "0                  0.920907                    96.165000   \n",
       "1                  0.923664                    98.181667   \n",
       "2                  0.950851                    97.779376   \n",
       "3                  0.938596                    98.748889   \n",
       "4                  0.861203                    97.032381   \n",
       "..                      ...                          ...   \n",
       "131                0.885796                    97.547857   \n",
       "132                0.545352                    91.812667   \n",
       "133                0.611319                    92.971250   \n",
       "134                0.446541                    94.432500   \n",
       "135                0.553339                    95.563077   \n",
       "\n",
       "     chainB_intf_avg_plddt_run37  intf_avg_plddt_run37  ...  \\\n",
       "0                      92.233334             95.023548  ...   \n",
       "1                      93.685999             96.859411  ...   \n",
       "2                      93.825715             96.576088  ...   \n",
       "3                      88.666667             96.228333  ...   \n",
       "4                      82.186666             93.733333  ...   \n",
       "..                           ...                   ...  ...   \n",
       "131                    87.994284             94.363333  ...   \n",
       "132                    34.396000             77.458500  ...   \n",
       "133                    39.842500             75.261667  ...   \n",
       "134                    28.864000             69.213846  ...   \n",
       "135                    39.110000             82.280000  ...   \n",
       "\n",
       "     num_align_atoms_domain_run48  align_score_domain_run48  \\\n",
       "0                            1159                     748.5   \n",
       "1                            1134                     733.5   \n",
       "2                            2382                    1590.0   \n",
       "3                            2172                    1552.0   \n",
       "4                            1282                     881.0   \n",
       "..                            ...                       ...   \n",
       "131                          1069                     685.0   \n",
       "132                          2561                    1704.0   \n",
       "133                          2391                    1612.0   \n",
       "134                          2277                    1572.0   \n",
       "135                          1945                    1275.0   \n",
       "\n",
       "     num_align_resi_domain_run48  RMSD_backbone_peptide_run48  \\\n",
       "0                            146                     0.434531   \n",
       "1                            137                     0.550012   \n",
       "2                            292                     0.413751   \n",
       "3                            285                     0.281707   \n",
       "4                            168                     0.657274   \n",
       "..                           ...                          ...   \n",
       "131                          140                     0.832044   \n",
       "132                          328                    28.405018   \n",
       "133                          299                    36.769054   \n",
       "134                          293                    37.045300   \n",
       "135                          246                     1.890467   \n",
       "\n",
       "     RMSD_all_atom_peptide_run48  known_motif_plddt_run48  DockQ_run48  \\\n",
       "0                       0.731597                     None        0.961   \n",
       "1                       0.670959                     None        0.978   \n",
       "2                       0.787736                     None        0.958   \n",
       "3                       0.939188                     None        0.970   \n",
       "4                       0.844578                     None        0.978   \n",
       "..                           ...                      ...          ...   \n",
       "131                     1.250552                     None        0.931   \n",
       "132                    28.349970                     None        0.038   \n",
       "133                    37.004066                     None        0.021   \n",
       "134                    37.126663                     None        0.022   \n",
       "135                     2.272202                     None        0.879   \n",
       "\n",
       "     iRMS_run48  LRMS_run48  Fnonnat_run48  \n",
       "0         0.472       0.442          0.114  \n",
       "1         0.387       0.555          0.167  \n",
       "2         0.393       0.450          0.000  \n",
       "3         0.377       0.291          0.057  \n",
       "4         0.374       0.657          0.000  \n",
       "..          ...         ...            ...  \n",
       "131       0.446       0.885          0.042  \n",
       "132       8.174      28.367          1.000  \n",
       "133      12.909      36.725          1.000  \n",
       "134      11.951      37.064          1.000  \n",
       "135       0.718       1.973          0.125  \n",
       "\n",
       "[136 rows x 56 columns]"
      ]
     },
     "execution_count": 7,
     "metadata": {},
     "output_type": "execute_result"
    }
   ],
   "source": [
    "df = pd.merge(run37,run48,how='inner',left_on=['dmi_name','pdb_id'],right_on=['dmi_name','pdb_id'],\n",
    "         suffixes=['_run37','_run48'])\n",
    "df"
   ]
  },
  {
   "cell_type": "code",
   "execution_count": 8,
   "id": "divided-stevens",
   "metadata": {},
   "outputs": [
    {
     "data": {
      "text/html": [
       "<div>\n",
       "<style scoped>\n",
       "    .dataframe tbody tr th:only-of-type {\n",
       "        vertical-align: middle;\n",
       "    }\n",
       "\n",
       "    .dataframe tbody tr th {\n",
       "        vertical-align: top;\n",
       "    }\n",
       "\n",
       "    .dataframe thead th {\n",
       "        text-align: right;\n",
       "    }\n",
       "</style>\n",
       "<table border=\"1\" class=\"dataframe\">\n",
       "  <thead>\n",
       "    <tr style=\"text-align: right;\">\n",
       "      <th></th>\n",
       "      <th>project_name_run37</th>\n",
       "      <th>prediction_name_run37</th>\n",
       "      <th>run_id_run37</th>\n",
       "      <th>chainA_length_run37</th>\n",
       "      <th>chainB_length_run37</th>\n",
       "      <th>model_id_run37</th>\n",
       "      <th>model_confidence_run37</th>\n",
       "      <th>chainA_intf_avg_plddt_run37</th>\n",
       "      <th>chainB_intf_avg_plddt_run37</th>\n",
       "      <th>intf_avg_plddt_run37</th>\n",
       "      <th>...</th>\n",
       "      <th>RMSD_all_atom_peptide_run48</th>\n",
       "      <th>known_motif_plddt_run48</th>\n",
       "      <th>DockQ_run48</th>\n",
       "      <th>iRMS_run48</th>\n",
       "      <th>LRMS_run48</th>\n",
       "      <th>Fnonnat_run48</th>\n",
       "      <th>RMSD_all_atom_peptide_classification_run37</th>\n",
       "      <th>DockQ_classification_run37</th>\n",
       "      <th>RMSD_all_atom_peptide_classification_run48</th>\n",
       "      <th>DockQ_classification_run48</th>\n",
       "    </tr>\n",
       "  </thead>\n",
       "  <tbody>\n",
       "    <tr>\n",
       "      <th>0</th>\n",
       "      <td>AlphaFold_benchmark</td>\n",
       "      <td>run37_DEG_SIAH_1_2A25</td>\n",
       "      <td>run37</td>\n",
       "      <td>193</td>\n",
       "      <td>9</td>\n",
       "      <td>ranked_3</td>\n",
       "      <td>0.920907</td>\n",
       "      <td>96.165000</td>\n",
       "      <td>92.233334</td>\n",
       "      <td>95.023548</td>\n",
       "      <td>...</td>\n",
       "      <td>0.731597</td>\n",
       "      <td>None</td>\n",
       "      <td>0.961</td>\n",
       "      <td>0.472</td>\n",
       "      <td>0.442</td>\n",
       "      <td>0.114</td>\n",
       "      <td>correct_sidechain</td>\n",
       "      <td>High</td>\n",
       "      <td>correct_sidechain</td>\n",
       "      <td>High</td>\n",
       "    </tr>\n",
       "    <tr>\n",
       "      <th>1</th>\n",
       "      <td>AlphaFold_benchmark</td>\n",
       "      <td>run37_DOC_USP7_MATH_1_3MQS</td>\n",
       "      <td>run37</td>\n",
       "      <td>143</td>\n",
       "      <td>5</td>\n",
       "      <td>ranked_0</td>\n",
       "      <td>0.923664</td>\n",
       "      <td>98.181667</td>\n",
       "      <td>93.685999</td>\n",
       "      <td>96.859411</td>\n",
       "      <td>...</td>\n",
       "      <td>0.670959</td>\n",
       "      <td>None</td>\n",
       "      <td>0.978</td>\n",
       "      <td>0.387</td>\n",
       "      <td>0.555</td>\n",
       "      <td>0.167</td>\n",
       "      <td>correct_sidechain</td>\n",
       "      <td>High</td>\n",
       "      <td>correct_sidechain</td>\n",
       "      <td>High</td>\n",
       "    </tr>\n",
       "    <tr>\n",
       "      <th>2</th>\n",
       "      <td>AlphaFold_benchmark</td>\n",
       "      <td>run37_DOC_PP2B_PxIxI_1_4F0Z</td>\n",
       "      <td>run37</td>\n",
       "      <td>292</td>\n",
       "      <td>7</td>\n",
       "      <td>ranked_0</td>\n",
       "      <td>0.950851</td>\n",
       "      <td>97.779376</td>\n",
       "      <td>93.825715</td>\n",
       "      <td>96.576088</td>\n",
       "      <td>...</td>\n",
       "      <td>0.787736</td>\n",
       "      <td>None</td>\n",
       "      <td>0.958</td>\n",
       "      <td>0.393</td>\n",
       "      <td>0.450</td>\n",
       "      <td>0.000</td>\n",
       "      <td>correct_sidechain</td>\n",
       "      <td>High</td>\n",
       "      <td>correct_sidechain</td>\n",
       "      <td>High</td>\n",
       "    </tr>\n",
       "    <tr>\n",
       "      <th>3</th>\n",
       "      <td>AlphaFold_benchmark</td>\n",
       "      <td>run37_DEG_Kelch_Keap1_1_2FLU</td>\n",
       "      <td>run37</td>\n",
       "      <td>285</td>\n",
       "      <td>6</td>\n",
       "      <td>ranked_1</td>\n",
       "      <td>0.938596</td>\n",
       "      <td>98.748889</td>\n",
       "      <td>88.666667</td>\n",
       "      <td>96.228333</td>\n",
       "      <td>...</td>\n",
       "      <td>0.939188</td>\n",
       "      <td>None</td>\n",
       "      <td>0.970</td>\n",
       "      <td>0.377</td>\n",
       "      <td>0.291</td>\n",
       "      <td>0.057</td>\n",
       "      <td>correct_sidechain</td>\n",
       "      <td>High</td>\n",
       "      <td>correct_sidechain</td>\n",
       "      <td>High</td>\n",
       "    </tr>\n",
       "    <tr>\n",
       "      <th>4</th>\n",
       "      <td>AlphaFold_benchmark</td>\n",
       "      <td>run37_LIG_TRAF2_2_1CZY</td>\n",
       "      <td>run37</td>\n",
       "      <td>168</td>\n",
       "      <td>6</td>\n",
       "      <td>ranked_3</td>\n",
       "      <td>0.861203</td>\n",
       "      <td>97.032381</td>\n",
       "      <td>82.186666</td>\n",
       "      <td>93.733333</td>\n",
       "      <td>...</td>\n",
       "      <td>0.844578</td>\n",
       "      <td>None</td>\n",
       "      <td>0.978</td>\n",
       "      <td>0.374</td>\n",
       "      <td>0.657</td>\n",
       "      <td>0.000</td>\n",
       "      <td>correct_sidechain</td>\n",
       "      <td>High</td>\n",
       "      <td>correct_sidechain</td>\n",
       "      <td>High</td>\n",
       "    </tr>\n",
       "    <tr>\n",
       "      <th>...</th>\n",
       "      <td>...</td>\n",
       "      <td>...</td>\n",
       "      <td>...</td>\n",
       "      <td>...</td>\n",
       "      <td>...</td>\n",
       "      <td>...</td>\n",
       "      <td>...</td>\n",
       "      <td>...</td>\n",
       "      <td>...</td>\n",
       "      <td>...</td>\n",
       "      <td>...</td>\n",
       "      <td>...</td>\n",
       "      <td>...</td>\n",
       "      <td>...</td>\n",
       "      <td>...</td>\n",
       "      <td>...</td>\n",
       "      <td>...</td>\n",
       "      <td>...</td>\n",
       "      <td>...</td>\n",
       "      <td>...</td>\n",
       "      <td>...</td>\n",
       "    </tr>\n",
       "    <tr>\n",
       "      <th>131</th>\n",
       "      <td>AlphaFold_benchmark</td>\n",
       "      <td>run37_LIG_FAT_LD_1_3GM1</td>\n",
       "      <td>run37</td>\n",
       "      <td>140</td>\n",
       "      <td>9</td>\n",
       "      <td>ranked_3</td>\n",
       "      <td>0.885796</td>\n",
       "      <td>97.547857</td>\n",
       "      <td>87.994284</td>\n",
       "      <td>94.363333</td>\n",
       "      <td>...</td>\n",
       "      <td>1.250552</td>\n",
       "      <td>None</td>\n",
       "      <td>0.931</td>\n",
       "      <td>0.446</td>\n",
       "      <td>0.885</td>\n",
       "      <td>0.042</td>\n",
       "      <td>wrong_pocket</td>\n",
       "      <td>Incorrect</td>\n",
       "      <td>correct_sidechain</td>\n",
       "      <td>High</td>\n",
       "    </tr>\n",
       "    <tr>\n",
       "      <th>132</th>\n",
       "      <td>AlphaFold_benchmark</td>\n",
       "      <td>run37_LIG_Clathr_ClatBox_2_1UTC</td>\n",
       "      <td>run37</td>\n",
       "      <td>328</td>\n",
       "      <td>6</td>\n",
       "      <td>ranked_4</td>\n",
       "      <td>0.545352</td>\n",
       "      <td>91.812667</td>\n",
       "      <td>34.396000</td>\n",
       "      <td>77.458500</td>\n",
       "      <td>...</td>\n",
       "      <td>28.349970</td>\n",
       "      <td>None</td>\n",
       "      <td>0.038</td>\n",
       "      <td>8.174</td>\n",
       "      <td>28.367</td>\n",
       "      <td>1.000</td>\n",
       "      <td>wrong_pocket</td>\n",
       "      <td>Incorrect</td>\n",
       "      <td>wrong_pocket</td>\n",
       "      <td>Incorrect</td>\n",
       "    </tr>\n",
       "    <tr>\n",
       "      <th>133</th>\n",
       "      <td>AlphaFold_benchmark</td>\n",
       "      <td>run37_DOC_PP1_MyPhoNE_1_1S70</td>\n",
       "      <td>run37</td>\n",
       "      <td>299</td>\n",
       "      <td>8</td>\n",
       "      <td>ranked_1</td>\n",
       "      <td>0.611319</td>\n",
       "      <td>92.971250</td>\n",
       "      <td>39.842500</td>\n",
       "      <td>75.261667</td>\n",
       "      <td>...</td>\n",
       "      <td>37.004066</td>\n",
       "      <td>None</td>\n",
       "      <td>0.021</td>\n",
       "      <td>12.909</td>\n",
       "      <td>36.725</td>\n",
       "      <td>1.000</td>\n",
       "      <td>wrong_pocket</td>\n",
       "      <td>Incorrect</td>\n",
       "      <td>wrong_pocket</td>\n",
       "      <td>Incorrect</td>\n",
       "    </tr>\n",
       "    <tr>\n",
       "      <th>134</th>\n",
       "      <td>AlphaFold_benchmark</td>\n",
       "      <td>run37_LIG_APCC_ABBA_1_4BH6</td>\n",
       "      <td>run37</td>\n",
       "      <td>293</td>\n",
       "      <td>6</td>\n",
       "      <td>ranked_1</td>\n",
       "      <td>0.446541</td>\n",
       "      <td>94.432500</td>\n",
       "      <td>28.864000</td>\n",
       "      <td>69.213846</td>\n",
       "      <td>...</td>\n",
       "      <td>37.126663</td>\n",
       "      <td>None</td>\n",
       "      <td>0.022</td>\n",
       "      <td>11.951</td>\n",
       "      <td>37.064</td>\n",
       "      <td>1.000</td>\n",
       "      <td>wrong_pocket</td>\n",
       "      <td>Incorrect</td>\n",
       "      <td>wrong_pocket</td>\n",
       "      <td>Incorrect</td>\n",
       "    </tr>\n",
       "    <tr>\n",
       "      <th>135</th>\n",
       "      <td>AlphaFold_benchmark</td>\n",
       "      <td>run37_LIG_AP2alpha_1_1KY7</td>\n",
       "      <td>run37</td>\n",
       "      <td>246</td>\n",
       "      <td>5</td>\n",
       "      <td>ranked_2</td>\n",
       "      <td>0.553339</td>\n",
       "      <td>95.563077</td>\n",
       "      <td>39.110000</td>\n",
       "      <td>82.280000</td>\n",
       "      <td>...</td>\n",
       "      <td>2.272202</td>\n",
       "      <td>None</td>\n",
       "      <td>0.879</td>\n",
       "      <td>0.718</td>\n",
       "      <td>1.973</td>\n",
       "      <td>0.125</td>\n",
       "      <td>wrong_pocket</td>\n",
       "      <td>Incorrect</td>\n",
       "      <td>correct_backbone</td>\n",
       "      <td>High</td>\n",
       "    </tr>\n",
       "  </tbody>\n",
       "</table>\n",
       "<p>136 rows × 60 columns</p>\n",
       "</div>"
      ],
      "text/plain": [
       "      project_name_run37            prediction_name_run37 run_id_run37  \\\n",
       "0    AlphaFold_benchmark            run37_DEG_SIAH_1_2A25        run37   \n",
       "1    AlphaFold_benchmark       run37_DOC_USP7_MATH_1_3MQS        run37   \n",
       "2    AlphaFold_benchmark      run37_DOC_PP2B_PxIxI_1_4F0Z        run37   \n",
       "3    AlphaFold_benchmark     run37_DEG_Kelch_Keap1_1_2FLU        run37   \n",
       "4    AlphaFold_benchmark           run37_LIG_TRAF2_2_1CZY        run37   \n",
       "..                   ...                              ...          ...   \n",
       "131  AlphaFold_benchmark          run37_LIG_FAT_LD_1_3GM1        run37   \n",
       "132  AlphaFold_benchmark  run37_LIG_Clathr_ClatBox_2_1UTC        run37   \n",
       "133  AlphaFold_benchmark     run37_DOC_PP1_MyPhoNE_1_1S70        run37   \n",
       "134  AlphaFold_benchmark       run37_LIG_APCC_ABBA_1_4BH6        run37   \n",
       "135  AlphaFold_benchmark        run37_LIG_AP2alpha_1_1KY7        run37   \n",
       "\n",
       "     chainA_length_run37  chainB_length_run37 model_id_run37  \\\n",
       "0                    193                    9       ranked_3   \n",
       "1                    143                    5       ranked_0   \n",
       "2                    292                    7       ranked_0   \n",
       "3                    285                    6       ranked_1   \n",
       "4                    168                    6       ranked_3   \n",
       "..                   ...                  ...            ...   \n",
       "131                  140                    9       ranked_3   \n",
       "132                  328                    6       ranked_4   \n",
       "133                  299                    8       ranked_1   \n",
       "134                  293                    6       ranked_1   \n",
       "135                  246                    5       ranked_2   \n",
       "\n",
       "     model_confidence_run37  chainA_intf_avg_plddt_run37  \\\n",
       "0                  0.920907                    96.165000   \n",
       "1                  0.923664                    98.181667   \n",
       "2                  0.950851                    97.779376   \n",
       "3                  0.938596                    98.748889   \n",
       "4                  0.861203                    97.032381   \n",
       "..                      ...                          ...   \n",
       "131                0.885796                    97.547857   \n",
       "132                0.545352                    91.812667   \n",
       "133                0.611319                    92.971250   \n",
       "134                0.446541                    94.432500   \n",
       "135                0.553339                    95.563077   \n",
       "\n",
       "     chainB_intf_avg_plddt_run37  intf_avg_plddt_run37  ...  \\\n",
       "0                      92.233334             95.023548  ...   \n",
       "1                      93.685999             96.859411  ...   \n",
       "2                      93.825715             96.576088  ...   \n",
       "3                      88.666667             96.228333  ...   \n",
       "4                      82.186666             93.733333  ...   \n",
       "..                           ...                   ...  ...   \n",
       "131                    87.994284             94.363333  ...   \n",
       "132                    34.396000             77.458500  ...   \n",
       "133                    39.842500             75.261667  ...   \n",
       "134                    28.864000             69.213846  ...   \n",
       "135                    39.110000             82.280000  ...   \n",
       "\n",
       "     RMSD_all_atom_peptide_run48  known_motif_plddt_run48  DockQ_run48  \\\n",
       "0                       0.731597                     None        0.961   \n",
       "1                       0.670959                     None        0.978   \n",
       "2                       0.787736                     None        0.958   \n",
       "3                       0.939188                     None        0.970   \n",
       "4                       0.844578                     None        0.978   \n",
       "..                           ...                      ...          ...   \n",
       "131                     1.250552                     None        0.931   \n",
       "132                    28.349970                     None        0.038   \n",
       "133                    37.004066                     None        0.021   \n",
       "134                    37.126663                     None        0.022   \n",
       "135                     2.272202                     None        0.879   \n",
       "\n",
       "     iRMS_run48  LRMS_run48  Fnonnat_run48  \\\n",
       "0         0.472       0.442          0.114   \n",
       "1         0.387       0.555          0.167   \n",
       "2         0.393       0.450          0.000   \n",
       "3         0.377       0.291          0.057   \n",
       "4         0.374       0.657          0.000   \n",
       "..          ...         ...            ...   \n",
       "131       0.446       0.885          0.042   \n",
       "132       8.174      28.367          1.000   \n",
       "133      12.909      36.725          1.000   \n",
       "134      11.951      37.064          1.000   \n",
       "135       0.718       1.973          0.125   \n",
       "\n",
       "     RMSD_all_atom_peptide_classification_run37  DockQ_classification_run37  \\\n",
       "0                             correct_sidechain                        High   \n",
       "1                             correct_sidechain                        High   \n",
       "2                             correct_sidechain                        High   \n",
       "3                             correct_sidechain                        High   \n",
       "4                             correct_sidechain                        High   \n",
       "..                                          ...                         ...   \n",
       "131                                wrong_pocket                   Incorrect   \n",
       "132                                wrong_pocket                   Incorrect   \n",
       "133                                wrong_pocket                   Incorrect   \n",
       "134                                wrong_pocket                   Incorrect   \n",
       "135                                wrong_pocket                   Incorrect   \n",
       "\n",
       "     RMSD_all_atom_peptide_classification_run48  DockQ_classification_run48  \n",
       "0                             correct_sidechain                        High  \n",
       "1                             correct_sidechain                        High  \n",
       "2                             correct_sidechain                        High  \n",
       "3                             correct_sidechain                        High  \n",
       "4                             correct_sidechain                        High  \n",
       "..                                          ...                         ...  \n",
       "131                           correct_sidechain                        High  \n",
       "132                                wrong_pocket                   Incorrect  \n",
       "133                                wrong_pocket                   Incorrect  \n",
       "134                                wrong_pocket                   Incorrect  \n",
       "135                            correct_backbone                        High  \n",
       "\n",
       "[136 rows x 60 columns]"
      ]
     },
     "execution_count": 8,
     "metadata": {},
     "output_type": "execute_result"
    }
   ],
   "source": [
    "condlist = [df['RMSD_all_atom_peptide_run37'] <= 2,\n",
    "            (df['RMSD_all_atom_peptide_run37'] > 2) & (df['RMSD_all_atom_peptide_run37'] <= 5),\n",
    "            (df['RMSD_all_atom_peptide_run37'] > 5) & (df['RMSD_all_atom_peptide_run37'] <= 15),\n",
    "            df['RMSD_all_atom_peptide_run37'] > 15]\n",
    "choicelist = ['correct_sidechain','correct_backbone','correct_pocket','wrong_pocket']\n",
    "df['RMSD_all_atom_peptide_classification_run37'] = np.select(condlist,choicelist)\n",
    "\n",
    "condlist = [df['DockQ_run37'] < 0.23,\n",
    "            (df['DockQ_run37'] >= 0.23) & (df['DockQ_run37'] < 0.49),\n",
    "            (df['DockQ_run37'] >= 0.49) & (df['DockQ_run37'] < 0.8),\n",
    "            df['DockQ_run37'] >= 0.8]\n",
    "choicelist = ['Incorrect','Acceptable','Medium','High']\n",
    "df['DockQ_classification_run37'] = np.select(condlist,choicelist)\n",
    "\n",
    "condlist = [df['RMSD_all_atom_peptide_run48'] <= 2,\n",
    "            (df['RMSD_all_atom_peptide_run48'] > 2) & (df['RMSD_all_atom_peptide_run48'] <= 5),\n",
    "            (df['RMSD_all_atom_peptide_run48'] > 5) & (df['RMSD_all_atom_peptide_run48'] <= 15),\n",
    "            df['RMSD_all_atom_peptide_run48'] > 15]\n",
    "choicelist = ['correct_sidechain','correct_backbone','correct_pocket','wrong_pocket']\n",
    "df['RMSD_all_atom_peptide_classification_run48'] = np.select(condlist,choicelist)\n",
    "\n",
    "condlist = [df['DockQ_run48'] < 0.23,\n",
    "            (df['DockQ_run48'] >= 0.23) & (df['DockQ_run48'] < 0.49),\n",
    "            (df['DockQ_run48'] >= 0.49) & (df['DockQ_run48'] < 0.8),\n",
    "            df['DockQ_run48'] >= 0.8]\n",
    "choicelist = ['Incorrect','Acceptable','Medium','High']\n",
    "df['DockQ_classification_run48'] = np.select(condlist,choicelist)\n",
    "\n",
    "df"
   ]
  },
  {
   "cell_type": "code",
   "execution_count": 29,
   "id": "novel-resource",
   "metadata": {},
   "outputs": [
    {
     "data": {
      "application/vnd.plotly.v1+json": {
       "config": {
        "plotlyServerURL": "https://plot.ly"
       },
       "data": [
        {
         "arrangement": "snap",
         "link": {
          "source": [
           1,
           1,
           1,
           2,
           2,
           2,
           0,
           0,
           0,
           3,
           3,
           3,
           3
          ],
          "target": [
           5,
           6,
           4,
           5,
           6,
           4,
           5,
           6,
           4,
           5,
           6,
           4,
           7
          ],
          "value": [
           32,
           1,
           10,
           9,
           22,
           4,
           1,
           1,
           46,
           1,
           2,
           3,
           4
          ]
         },
         "node": {
          "color": [
           "#1F77B4",
           "#FF7F0E",
           "#2CA02C",
           "#D62728",
           "#1F77B4",
           "#FF7F0E",
           "#2CA02C",
           "#D62728"
          ],
          "label": [
           "v2.2: Correct sidechain",
           "v2.2: Correct backbone",
           "v2.2: Correct pocket",
           "v2.2: Wrong pocket",
           "v2.3: Correct sidechain",
           "v2.3: Correct backbone",
           "v2.3: Correct pocket",
           "v2.3: Wrong pocket"
          ],
          "line": {
           "color": "black",
           "width": 0.5
          },
          "pad": 15,
          "thickness": 20
         },
         "type": "sankey"
        }
       ],
       "layout": {
        "font": {
         "size": 12
        },
        "plot_bgcolor": "rgba(0,0,0,0)",
        "template": {
         "data": {
          "bar": [
           {
            "error_x": {
             "color": "#2a3f5f"
            },
            "error_y": {
             "color": "#2a3f5f"
            },
            "marker": {
             "line": {
              "color": "#E5ECF6",
              "width": 0.5
             },
             "pattern": {
              "fillmode": "overlay",
              "size": 10,
              "solidity": 0.2
             }
            },
            "type": "bar"
           }
          ],
          "barpolar": [
           {
            "marker": {
             "line": {
              "color": "#E5ECF6",
              "width": 0.5
             },
             "pattern": {
              "fillmode": "overlay",
              "size": 10,
              "solidity": 0.2
             }
            },
            "type": "barpolar"
           }
          ],
          "carpet": [
           {
            "aaxis": {
             "endlinecolor": "#2a3f5f",
             "gridcolor": "white",
             "linecolor": "white",
             "minorgridcolor": "white",
             "startlinecolor": "#2a3f5f"
            },
            "baxis": {
             "endlinecolor": "#2a3f5f",
             "gridcolor": "white",
             "linecolor": "white",
             "minorgridcolor": "white",
             "startlinecolor": "#2a3f5f"
            },
            "type": "carpet"
           }
          ],
          "choropleth": [
           {
            "colorbar": {
             "outlinewidth": 0,
             "ticks": ""
            },
            "type": "choropleth"
           }
          ],
          "contour": [
           {
            "colorbar": {
             "outlinewidth": 0,
             "ticks": ""
            },
            "colorscale": [
             [
              0,
              "#0d0887"
             ],
             [
              0.1111111111111111,
              "#46039f"
             ],
             [
              0.2222222222222222,
              "#7201a8"
             ],
             [
              0.3333333333333333,
              "#9c179e"
             ],
             [
              0.4444444444444444,
              "#bd3786"
             ],
             [
              0.5555555555555556,
              "#d8576b"
             ],
             [
              0.6666666666666666,
              "#ed7953"
             ],
             [
              0.7777777777777778,
              "#fb9f3a"
             ],
             [
              0.8888888888888888,
              "#fdca26"
             ],
             [
              1,
              "#f0f921"
             ]
            ],
            "type": "contour"
           }
          ],
          "contourcarpet": [
           {
            "colorbar": {
             "outlinewidth": 0,
             "ticks": ""
            },
            "type": "contourcarpet"
           }
          ],
          "heatmap": [
           {
            "colorbar": {
             "outlinewidth": 0,
             "ticks": ""
            },
            "colorscale": [
             [
              0,
              "#0d0887"
             ],
             [
              0.1111111111111111,
              "#46039f"
             ],
             [
              0.2222222222222222,
              "#7201a8"
             ],
             [
              0.3333333333333333,
              "#9c179e"
             ],
             [
              0.4444444444444444,
              "#bd3786"
             ],
             [
              0.5555555555555556,
              "#d8576b"
             ],
             [
              0.6666666666666666,
              "#ed7953"
             ],
             [
              0.7777777777777778,
              "#fb9f3a"
             ],
             [
              0.8888888888888888,
              "#fdca26"
             ],
             [
              1,
              "#f0f921"
             ]
            ],
            "type": "heatmap"
           }
          ],
          "heatmapgl": [
           {
            "colorbar": {
             "outlinewidth": 0,
             "ticks": ""
            },
            "colorscale": [
             [
              0,
              "#0d0887"
             ],
             [
              0.1111111111111111,
              "#46039f"
             ],
             [
              0.2222222222222222,
              "#7201a8"
             ],
             [
              0.3333333333333333,
              "#9c179e"
             ],
             [
              0.4444444444444444,
              "#bd3786"
             ],
             [
              0.5555555555555556,
              "#d8576b"
             ],
             [
              0.6666666666666666,
              "#ed7953"
             ],
             [
              0.7777777777777778,
              "#fb9f3a"
             ],
             [
              0.8888888888888888,
              "#fdca26"
             ],
             [
              1,
              "#f0f921"
             ]
            ],
            "type": "heatmapgl"
           }
          ],
          "histogram": [
           {
            "marker": {
             "pattern": {
              "fillmode": "overlay",
              "size": 10,
              "solidity": 0.2
             }
            },
            "type": "histogram"
           }
          ],
          "histogram2d": [
           {
            "colorbar": {
             "outlinewidth": 0,
             "ticks": ""
            },
            "colorscale": [
             [
              0,
              "#0d0887"
             ],
             [
              0.1111111111111111,
              "#46039f"
             ],
             [
              0.2222222222222222,
              "#7201a8"
             ],
             [
              0.3333333333333333,
              "#9c179e"
             ],
             [
              0.4444444444444444,
              "#bd3786"
             ],
             [
              0.5555555555555556,
              "#d8576b"
             ],
             [
              0.6666666666666666,
              "#ed7953"
             ],
             [
              0.7777777777777778,
              "#fb9f3a"
             ],
             [
              0.8888888888888888,
              "#fdca26"
             ],
             [
              1,
              "#f0f921"
             ]
            ],
            "type": "histogram2d"
           }
          ],
          "histogram2dcontour": [
           {
            "colorbar": {
             "outlinewidth": 0,
             "ticks": ""
            },
            "colorscale": [
             [
              0,
              "#0d0887"
             ],
             [
              0.1111111111111111,
              "#46039f"
             ],
             [
              0.2222222222222222,
              "#7201a8"
             ],
             [
              0.3333333333333333,
              "#9c179e"
             ],
             [
              0.4444444444444444,
              "#bd3786"
             ],
             [
              0.5555555555555556,
              "#d8576b"
             ],
             [
              0.6666666666666666,
              "#ed7953"
             ],
             [
              0.7777777777777778,
              "#fb9f3a"
             ],
             [
              0.8888888888888888,
              "#fdca26"
             ],
             [
              1,
              "#f0f921"
             ]
            ],
            "type": "histogram2dcontour"
           }
          ],
          "mesh3d": [
           {
            "colorbar": {
             "outlinewidth": 0,
             "ticks": ""
            },
            "type": "mesh3d"
           }
          ],
          "parcoords": [
           {
            "line": {
             "colorbar": {
              "outlinewidth": 0,
              "ticks": ""
             }
            },
            "type": "parcoords"
           }
          ],
          "pie": [
           {
            "automargin": true,
            "type": "pie"
           }
          ],
          "scatter": [
           {
            "fillpattern": {
             "fillmode": "overlay",
             "size": 10,
             "solidity": 0.2
            },
            "type": "scatter"
           }
          ],
          "scatter3d": [
           {
            "line": {
             "colorbar": {
              "outlinewidth": 0,
              "ticks": ""
             }
            },
            "marker": {
             "colorbar": {
              "outlinewidth": 0,
              "ticks": ""
             }
            },
            "type": "scatter3d"
           }
          ],
          "scattercarpet": [
           {
            "marker": {
             "colorbar": {
              "outlinewidth": 0,
              "ticks": ""
             }
            },
            "type": "scattercarpet"
           }
          ],
          "scattergeo": [
           {
            "marker": {
             "colorbar": {
              "outlinewidth": 0,
              "ticks": ""
             }
            },
            "type": "scattergeo"
           }
          ],
          "scattergl": [
           {
            "marker": {
             "colorbar": {
              "outlinewidth": 0,
              "ticks": ""
             }
            },
            "type": "scattergl"
           }
          ],
          "scattermapbox": [
           {
            "marker": {
             "colorbar": {
              "outlinewidth": 0,
              "ticks": ""
             }
            },
            "type": "scattermapbox"
           }
          ],
          "scatterpolar": [
           {
            "marker": {
             "colorbar": {
              "outlinewidth": 0,
              "ticks": ""
             }
            },
            "type": "scatterpolar"
           }
          ],
          "scatterpolargl": [
           {
            "marker": {
             "colorbar": {
              "outlinewidth": 0,
              "ticks": ""
             }
            },
            "type": "scatterpolargl"
           }
          ],
          "scatterternary": [
           {
            "marker": {
             "colorbar": {
              "outlinewidth": 0,
              "ticks": ""
             }
            },
            "type": "scatterternary"
           }
          ],
          "surface": [
           {
            "colorbar": {
             "outlinewidth": 0,
             "ticks": ""
            },
            "colorscale": [
             [
              0,
              "#0d0887"
             ],
             [
              0.1111111111111111,
              "#46039f"
             ],
             [
              0.2222222222222222,
              "#7201a8"
             ],
             [
              0.3333333333333333,
              "#9c179e"
             ],
             [
              0.4444444444444444,
              "#bd3786"
             ],
             [
              0.5555555555555556,
              "#d8576b"
             ],
             [
              0.6666666666666666,
              "#ed7953"
             ],
             [
              0.7777777777777778,
              "#fb9f3a"
             ],
             [
              0.8888888888888888,
              "#fdca26"
             ],
             [
              1,
              "#f0f921"
             ]
            ],
            "type": "surface"
           }
          ],
          "table": [
           {
            "cells": {
             "fill": {
              "color": "#EBF0F8"
             },
             "line": {
              "color": "white"
             }
            },
            "header": {
             "fill": {
              "color": "#C8D4E3"
             },
             "line": {
              "color": "white"
             }
            },
            "type": "table"
           }
          ]
         },
         "layout": {
          "annotationdefaults": {
           "arrowcolor": "#2a3f5f",
           "arrowhead": 0,
           "arrowwidth": 1
          },
          "autotypenumbers": "strict",
          "coloraxis": {
           "colorbar": {
            "outlinewidth": 0,
            "ticks": ""
           }
          },
          "colorscale": {
           "diverging": [
            [
             0,
             "#8e0152"
            ],
            [
             0.1,
             "#c51b7d"
            ],
            [
             0.2,
             "#de77ae"
            ],
            [
             0.3,
             "#f1b6da"
            ],
            [
             0.4,
             "#fde0ef"
            ],
            [
             0.5,
             "#f7f7f7"
            ],
            [
             0.6,
             "#e6f5d0"
            ],
            [
             0.7,
             "#b8e186"
            ],
            [
             0.8,
             "#7fbc41"
            ],
            [
             0.9,
             "#4d9221"
            ],
            [
             1,
             "#276419"
            ]
           ],
           "sequential": [
            [
             0,
             "#0d0887"
            ],
            [
             0.1111111111111111,
             "#46039f"
            ],
            [
             0.2222222222222222,
             "#7201a8"
            ],
            [
             0.3333333333333333,
             "#9c179e"
            ],
            [
             0.4444444444444444,
             "#bd3786"
            ],
            [
             0.5555555555555556,
             "#d8576b"
            ],
            [
             0.6666666666666666,
             "#ed7953"
            ],
            [
             0.7777777777777778,
             "#fb9f3a"
            ],
            [
             0.8888888888888888,
             "#fdca26"
            ],
            [
             1,
             "#f0f921"
            ]
           ],
           "sequentialminus": [
            [
             0,
             "#0d0887"
            ],
            [
             0.1111111111111111,
             "#46039f"
            ],
            [
             0.2222222222222222,
             "#7201a8"
            ],
            [
             0.3333333333333333,
             "#9c179e"
            ],
            [
             0.4444444444444444,
             "#bd3786"
            ],
            [
             0.5555555555555556,
             "#d8576b"
            ],
            [
             0.6666666666666666,
             "#ed7953"
            ],
            [
             0.7777777777777778,
             "#fb9f3a"
            ],
            [
             0.8888888888888888,
             "#fdca26"
            ],
            [
             1,
             "#f0f921"
            ]
           ]
          },
          "colorway": [
           "#636efa",
           "#EF553B",
           "#00cc96",
           "#ab63fa",
           "#FFA15A",
           "#19d3f3",
           "#FF6692",
           "#B6E880",
           "#FF97FF",
           "#FECB52"
          ],
          "font": {
           "color": "#2a3f5f"
          },
          "geo": {
           "bgcolor": "white",
           "lakecolor": "white",
           "landcolor": "#E5ECF6",
           "showlakes": true,
           "showland": true,
           "subunitcolor": "white"
          },
          "hoverlabel": {
           "align": "left"
          },
          "hovermode": "closest",
          "mapbox": {
           "style": "light"
          },
          "paper_bgcolor": "white",
          "plot_bgcolor": "#E5ECF6",
          "polar": {
           "angularaxis": {
            "gridcolor": "white",
            "linecolor": "white",
            "ticks": ""
           },
           "bgcolor": "#E5ECF6",
           "radialaxis": {
            "gridcolor": "white",
            "linecolor": "white",
            "ticks": ""
           }
          },
          "scene": {
           "xaxis": {
            "backgroundcolor": "#E5ECF6",
            "gridcolor": "white",
            "gridwidth": 2,
            "linecolor": "white",
            "showbackground": true,
            "ticks": "",
            "zerolinecolor": "white"
           },
           "yaxis": {
            "backgroundcolor": "#E5ECF6",
            "gridcolor": "white",
            "gridwidth": 2,
            "linecolor": "white",
            "showbackground": true,
            "ticks": "",
            "zerolinecolor": "white"
           },
           "zaxis": {
            "backgroundcolor": "#E5ECF6",
            "gridcolor": "white",
            "gridwidth": 2,
            "linecolor": "white",
            "showbackground": true,
            "ticks": "",
            "zerolinecolor": "white"
           }
          },
          "shapedefaults": {
           "line": {
            "color": "#2a3f5f"
           }
          },
          "ternary": {
           "aaxis": {
            "gridcolor": "white",
            "linecolor": "white",
            "ticks": ""
           },
           "baxis": {
            "gridcolor": "white",
            "linecolor": "white",
            "ticks": ""
           },
           "bgcolor": "#E5ECF6",
           "caxis": {
            "gridcolor": "white",
            "linecolor": "white",
            "ticks": ""
           }
          },
          "title": {
           "x": 0.05
          },
          "xaxis": {
           "automargin": true,
           "gridcolor": "white",
           "linecolor": "white",
           "ticks": "",
           "title": {
            "standoff": 15
           },
           "zerolinecolor": "white",
           "zerolinewidth": 2
          },
          "yaxis": {
           "automargin": true,
           "gridcolor": "white",
           "linecolor": "white",
           "ticks": "",
           "title": {
            "standoff": 15
           },
           "zerolinecolor": "white",
           "zerolinewidth": 2
          }
         }
        },
        "title": {
         "text": "Prediction accuracy change across versions of AlphaFold Multimer",
         "x": 0.5,
         "y": 0.85
        },
        "xaxis": {
         "tickfont": {
          "family": "Arial"
         },
         "title": {
          "font": {
           "family": "Arial"
          }
         }
        },
        "yaxis": {
         "tickfont": {
          "family": "Arial"
         },
         "title": {
          "font": {
           "family": "Arial"
          }
         }
        }
       }
      },
      "text/html": [
       "<div>                            <div id=\"a9e0545f-c189-4c81-a190-1af1bd00a9e1\" class=\"plotly-graph-div\" style=\"height:525px; width:100%;\"></div>            <script type=\"text/javascript\">                require([\"plotly\"], function(Plotly) {                    window.PLOTLYENV=window.PLOTLYENV || {};                                    if (document.getElementById(\"a9e0545f-c189-4c81-a190-1af1bd00a9e1\")) {                    Plotly.newPlot(                        \"a9e0545f-c189-4c81-a190-1af1bd00a9e1\",                        [{\"arrangement\":\"snap\",\"link\":{\"source\":[1,1,1,2,2,2,0,0,0,3,3,3,3],\"target\":[5,6,4,5,6,4,5,6,4,5,6,4,7],\"value\":[32,1,10,9,22,4,1,1,46,1,2,3,4]},\"node\":{\"color\":[\"#1F77B4\",\"#FF7F0E\",\"#2CA02C\",\"#D62728\",\"#1F77B4\",\"#FF7F0E\",\"#2CA02C\",\"#D62728\"],\"label\":[\"v2.2: Correct sidechain\",\"v2.2: Correct backbone\",\"v2.2: Correct pocket\",\"v2.2: Wrong pocket\",\"v2.3: Correct sidechain\",\"v2.3: Correct backbone\",\"v2.3: Correct pocket\",\"v2.3: Wrong pocket\"],\"line\":{\"color\":\"black\",\"width\":0.5},\"pad\":15,\"thickness\":20},\"type\":\"sankey\"}],                        {\"template\":{\"data\":{\"histogram2dcontour\":[{\"type\":\"histogram2dcontour\",\"colorbar\":{\"outlinewidth\":0,\"ticks\":\"\"},\"colorscale\":[[0.0,\"#0d0887\"],[0.1111111111111111,\"#46039f\"],[0.2222222222222222,\"#7201a8\"],[0.3333333333333333,\"#9c179e\"],[0.4444444444444444,\"#bd3786\"],[0.5555555555555556,\"#d8576b\"],[0.6666666666666666,\"#ed7953\"],[0.7777777777777778,\"#fb9f3a\"],[0.8888888888888888,\"#fdca26\"],[1.0,\"#f0f921\"]]}],\"choropleth\":[{\"type\":\"choropleth\",\"colorbar\":{\"outlinewidth\":0,\"ticks\":\"\"}}],\"histogram2d\":[{\"type\":\"histogram2d\",\"colorbar\":{\"outlinewidth\":0,\"ticks\":\"\"},\"colorscale\":[[0.0,\"#0d0887\"],[0.1111111111111111,\"#46039f\"],[0.2222222222222222,\"#7201a8\"],[0.3333333333333333,\"#9c179e\"],[0.4444444444444444,\"#bd3786\"],[0.5555555555555556,\"#d8576b\"],[0.6666666666666666,\"#ed7953\"],[0.7777777777777778,\"#fb9f3a\"],[0.8888888888888888,\"#fdca26\"],[1.0,\"#f0f921\"]]}],\"heatmap\":[{\"type\":\"heatmap\",\"colorbar\":{\"outlinewidth\":0,\"ticks\":\"\"},\"colorscale\":[[0.0,\"#0d0887\"],[0.1111111111111111,\"#46039f\"],[0.2222222222222222,\"#7201a8\"],[0.3333333333333333,\"#9c179e\"],[0.4444444444444444,\"#bd3786\"],[0.5555555555555556,\"#d8576b\"],[0.6666666666666666,\"#ed7953\"],[0.7777777777777778,\"#fb9f3a\"],[0.8888888888888888,\"#fdca26\"],[1.0,\"#f0f921\"]]}],\"heatmapgl\":[{\"type\":\"heatmapgl\",\"colorbar\":{\"outlinewidth\":0,\"ticks\":\"\"},\"colorscale\":[[0.0,\"#0d0887\"],[0.1111111111111111,\"#46039f\"],[0.2222222222222222,\"#7201a8\"],[0.3333333333333333,\"#9c179e\"],[0.4444444444444444,\"#bd3786\"],[0.5555555555555556,\"#d8576b\"],[0.6666666666666666,\"#ed7953\"],[0.7777777777777778,\"#fb9f3a\"],[0.8888888888888888,\"#fdca26\"],[1.0,\"#f0f921\"]]}],\"contourcarpet\":[{\"type\":\"contourcarpet\",\"colorbar\":{\"outlinewidth\":0,\"ticks\":\"\"}}],\"contour\":[{\"type\":\"contour\",\"colorbar\":{\"outlinewidth\":0,\"ticks\":\"\"},\"colorscale\":[[0.0,\"#0d0887\"],[0.1111111111111111,\"#46039f\"],[0.2222222222222222,\"#7201a8\"],[0.3333333333333333,\"#9c179e\"],[0.4444444444444444,\"#bd3786\"],[0.5555555555555556,\"#d8576b\"],[0.6666666666666666,\"#ed7953\"],[0.7777777777777778,\"#fb9f3a\"],[0.8888888888888888,\"#fdca26\"],[1.0,\"#f0f921\"]]}],\"surface\":[{\"type\":\"surface\",\"colorbar\":{\"outlinewidth\":0,\"ticks\":\"\"},\"colorscale\":[[0.0,\"#0d0887\"],[0.1111111111111111,\"#46039f\"],[0.2222222222222222,\"#7201a8\"],[0.3333333333333333,\"#9c179e\"],[0.4444444444444444,\"#bd3786\"],[0.5555555555555556,\"#d8576b\"],[0.6666666666666666,\"#ed7953\"],[0.7777777777777778,\"#fb9f3a\"],[0.8888888888888888,\"#fdca26\"],[1.0,\"#f0f921\"]]}],\"mesh3d\":[{\"type\":\"mesh3d\",\"colorbar\":{\"outlinewidth\":0,\"ticks\":\"\"}}],\"scatter\":[{\"fillpattern\":{\"fillmode\":\"overlay\",\"size\":10,\"solidity\":0.2},\"type\":\"scatter\"}],\"parcoords\":[{\"type\":\"parcoords\",\"line\":{\"colorbar\":{\"outlinewidth\":0,\"ticks\":\"\"}}}],\"scatterpolargl\":[{\"type\":\"scatterpolargl\",\"marker\":{\"colorbar\":{\"outlinewidth\":0,\"ticks\":\"\"}}}],\"bar\":[{\"error_x\":{\"color\":\"#2a3f5f\"},\"error_y\":{\"color\":\"#2a3f5f\"},\"marker\":{\"line\":{\"color\":\"#E5ECF6\",\"width\":0.5},\"pattern\":{\"fillmode\":\"overlay\",\"size\":10,\"solidity\":0.2}},\"type\":\"bar\"}],\"scattergeo\":[{\"type\":\"scattergeo\",\"marker\":{\"colorbar\":{\"outlinewidth\":0,\"ticks\":\"\"}}}],\"scatterpolar\":[{\"type\":\"scatterpolar\",\"marker\":{\"colorbar\":{\"outlinewidth\":0,\"ticks\":\"\"}}}],\"histogram\":[{\"marker\":{\"pattern\":{\"fillmode\":\"overlay\",\"size\":10,\"solidity\":0.2}},\"type\":\"histogram\"}],\"scattergl\":[{\"type\":\"scattergl\",\"marker\":{\"colorbar\":{\"outlinewidth\":0,\"ticks\":\"\"}}}],\"scatter3d\":[{\"type\":\"scatter3d\",\"line\":{\"colorbar\":{\"outlinewidth\":0,\"ticks\":\"\"}},\"marker\":{\"colorbar\":{\"outlinewidth\":0,\"ticks\":\"\"}}}],\"scattermapbox\":[{\"type\":\"scattermapbox\",\"marker\":{\"colorbar\":{\"outlinewidth\":0,\"ticks\":\"\"}}}],\"scatterternary\":[{\"type\":\"scatterternary\",\"marker\":{\"colorbar\":{\"outlinewidth\":0,\"ticks\":\"\"}}}],\"scattercarpet\":[{\"type\":\"scattercarpet\",\"marker\":{\"colorbar\":{\"outlinewidth\":0,\"ticks\":\"\"}}}],\"carpet\":[{\"aaxis\":{\"endlinecolor\":\"#2a3f5f\",\"gridcolor\":\"white\",\"linecolor\":\"white\",\"minorgridcolor\":\"white\",\"startlinecolor\":\"#2a3f5f\"},\"baxis\":{\"endlinecolor\":\"#2a3f5f\",\"gridcolor\":\"white\",\"linecolor\":\"white\",\"minorgridcolor\":\"white\",\"startlinecolor\":\"#2a3f5f\"},\"type\":\"carpet\"}],\"table\":[{\"cells\":{\"fill\":{\"color\":\"#EBF0F8\"},\"line\":{\"color\":\"white\"}},\"header\":{\"fill\":{\"color\":\"#C8D4E3\"},\"line\":{\"color\":\"white\"}},\"type\":\"table\"}],\"barpolar\":[{\"marker\":{\"line\":{\"color\":\"#E5ECF6\",\"width\":0.5},\"pattern\":{\"fillmode\":\"overlay\",\"size\":10,\"solidity\":0.2}},\"type\":\"barpolar\"}],\"pie\":[{\"automargin\":true,\"type\":\"pie\"}]},\"layout\":{\"autotypenumbers\":\"strict\",\"colorway\":[\"#636efa\",\"#EF553B\",\"#00cc96\",\"#ab63fa\",\"#FFA15A\",\"#19d3f3\",\"#FF6692\",\"#B6E880\",\"#FF97FF\",\"#FECB52\"],\"font\":{\"color\":\"#2a3f5f\"},\"hovermode\":\"closest\",\"hoverlabel\":{\"align\":\"left\"},\"paper_bgcolor\":\"white\",\"plot_bgcolor\":\"#E5ECF6\",\"polar\":{\"bgcolor\":\"#E5ECF6\",\"angularaxis\":{\"gridcolor\":\"white\",\"linecolor\":\"white\",\"ticks\":\"\"},\"radialaxis\":{\"gridcolor\":\"white\",\"linecolor\":\"white\",\"ticks\":\"\"}},\"ternary\":{\"bgcolor\":\"#E5ECF6\",\"aaxis\":{\"gridcolor\":\"white\",\"linecolor\":\"white\",\"ticks\":\"\"},\"baxis\":{\"gridcolor\":\"white\",\"linecolor\":\"white\",\"ticks\":\"\"},\"caxis\":{\"gridcolor\":\"white\",\"linecolor\":\"white\",\"ticks\":\"\"}},\"coloraxis\":{\"colorbar\":{\"outlinewidth\":0,\"ticks\":\"\"}},\"colorscale\":{\"sequential\":[[0.0,\"#0d0887\"],[0.1111111111111111,\"#46039f\"],[0.2222222222222222,\"#7201a8\"],[0.3333333333333333,\"#9c179e\"],[0.4444444444444444,\"#bd3786\"],[0.5555555555555556,\"#d8576b\"],[0.6666666666666666,\"#ed7953\"],[0.7777777777777778,\"#fb9f3a\"],[0.8888888888888888,\"#fdca26\"],[1.0,\"#f0f921\"]],\"sequentialminus\":[[0.0,\"#0d0887\"],[0.1111111111111111,\"#46039f\"],[0.2222222222222222,\"#7201a8\"],[0.3333333333333333,\"#9c179e\"],[0.4444444444444444,\"#bd3786\"],[0.5555555555555556,\"#d8576b\"],[0.6666666666666666,\"#ed7953\"],[0.7777777777777778,\"#fb9f3a\"],[0.8888888888888888,\"#fdca26\"],[1.0,\"#f0f921\"]],\"diverging\":[[0,\"#8e0152\"],[0.1,\"#c51b7d\"],[0.2,\"#de77ae\"],[0.3,\"#f1b6da\"],[0.4,\"#fde0ef\"],[0.5,\"#f7f7f7\"],[0.6,\"#e6f5d0\"],[0.7,\"#b8e186\"],[0.8,\"#7fbc41\"],[0.9,\"#4d9221\"],[1,\"#276419\"]]},\"xaxis\":{\"gridcolor\":\"white\",\"linecolor\":\"white\",\"ticks\":\"\",\"title\":{\"standoff\":15},\"zerolinecolor\":\"white\",\"automargin\":true,\"zerolinewidth\":2},\"yaxis\":{\"gridcolor\":\"white\",\"linecolor\":\"white\",\"ticks\":\"\",\"title\":{\"standoff\":15},\"zerolinecolor\":\"white\",\"automargin\":true,\"zerolinewidth\":2},\"scene\":{\"xaxis\":{\"backgroundcolor\":\"#E5ECF6\",\"gridcolor\":\"white\",\"linecolor\":\"white\",\"showbackground\":true,\"ticks\":\"\",\"zerolinecolor\":\"white\",\"gridwidth\":2},\"yaxis\":{\"backgroundcolor\":\"#E5ECF6\",\"gridcolor\":\"white\",\"linecolor\":\"white\",\"showbackground\":true,\"ticks\":\"\",\"zerolinecolor\":\"white\",\"gridwidth\":2},\"zaxis\":{\"backgroundcolor\":\"#E5ECF6\",\"gridcolor\":\"white\",\"linecolor\":\"white\",\"showbackground\":true,\"ticks\":\"\",\"zerolinecolor\":\"white\",\"gridwidth\":2}},\"shapedefaults\":{\"line\":{\"color\":\"#2a3f5f\"}},\"annotationdefaults\":{\"arrowcolor\":\"#2a3f5f\",\"arrowhead\":0,\"arrowwidth\":1},\"geo\":{\"bgcolor\":\"white\",\"landcolor\":\"#E5ECF6\",\"subunitcolor\":\"white\",\"showland\":true,\"showlakes\":true,\"lakecolor\":\"white\"},\"title\":{\"x\":0.05},\"mapbox\":{\"style\":\"light\"}}},\"title\":{\"text\":\"Prediction accuracy change across versions of AlphaFold Multimer\",\"x\":0.5,\"y\":0.85},\"font\":{\"size\":12},\"xaxis\":{\"tickfont\":{\"family\":\"Arial\"},\"title\":{\"font\":{\"family\":\"Arial\"}}},\"yaxis\":{\"tickfont\":{\"family\":\"Arial\"},\"title\":{\"font\":{\"family\":\"Arial\"}}},\"plot_bgcolor\":\"rgba(0,0,0,0)\"},                        {\"responsive\": true}                    ).then(function(){\n",
       "                            \n",
       "var gd = document.getElementById('a9e0545f-c189-4c81-a190-1af1bd00a9e1');\n",
       "var x = new MutationObserver(function (mutations, observer) {{\n",
       "        var display = window.getComputedStyle(gd).display;\n",
       "        if (!display || display === 'none') {{\n",
       "            console.log([gd, 'removed!']);\n",
       "            Plotly.purge(gd);\n",
       "            observer.disconnect();\n",
       "        }}\n",
       "}});\n",
       "\n",
       "// Listen for the removal of the full notebook cells\n",
       "var notebookContainer = gd.closest('#notebook-container');\n",
       "if (notebookContainer) {{\n",
       "    x.observe(notebookContainer, {childList: true});\n",
       "}}\n",
       "\n",
       "// Listen for the clearing of the current output cell\n",
       "var outputEl = gd.closest('.output');\n",
       "if (outputEl) {{\n",
       "    x.observe(outputEl, {childList: true});\n",
       "}}\n",
       "\n",
       "                        })                };                });            </script>        </div>"
      ]
     },
     "metadata": {},
     "output_type": "display_data"
    }
   ],
   "source": [
    "# plot sankey diagram using Plotly\n",
    "temp = df.groupby(['RMSD_all_atom_peptide_classification_run37','RMSD_all_atom_peptide_classification_run48']).size()\n",
    "temp = temp.reset_index(name='count')\n",
    "\n",
    "# set up node translation dict\n",
    "node_dict = {'correct_sidechain':0,'correct_backbone':1,'correct_pocket':2,'wrong_pocket':3}\n",
    "\n",
    "fig = go.Figure(go.Sankey(\n",
    "    arrangement=\"snap\",\n",
    "    node=dict(\n",
    "        pad=15,\n",
    "        thickness=20,\n",
    "        line=dict(color=\"black\", width=0.5),\n",
    "        label=['v2.2: Correct sidechain','v2.2: Correct backbone','v2.2: Correct pocket','v2.2: Wrong pocket',\n",
    "              'v2.3: Correct sidechain','v2.3: Correct backbone','v2.3: Correct pocket','v2.3: Wrong pocket'],\n",
    "        color=[\"#1F77B4\", \"#FF7F0E\", \"#2CA02C\", \"#D62728\",\n",
    "               \"#1F77B4\", \"#FF7F0E\", \"#2CA02C\", \"#D62728\"],\n",
    "    ),\n",
    "    link=dict(\n",
    "        source=[node_dict.get(ele) for ele in temp['RMSD_all_atom_peptide_classification_run37']],  # Indices correspond to labels\n",
    "        target=[node_dict.get(ele)+len(node_dict) for ele in temp['RMSD_all_atom_peptide_classification_run48']], # target indice are same as source, just one iteration later\n",
    "        value=temp['count'].to_list()\n",
    "    )))\n",
    "\n",
    "fig.update_layout(title_text=\"Prediction accuracy change across versions of AlphaFold Multimer\",\n",
    "                  font_size=global_fontsize,title=dict(x=0.5,y=0.85),\n",
    "                  xaxis=dict(tickfont=dict(family='Arial'),titlefont=dict(family='Arial')),\n",
    "                  yaxis=dict(tickfont=dict(family='Arial'),titlefont=dict(family='Arial')),\n",
    "                  plot_bgcolor=\"rgba(0,0,0,0)\")  # Set plot background to transparent\n",
    "\n",
    "fig.write_image(f'{save_path}RMSD_all_atom_peptide_classification_sankey.pdf',\n",
    "        format='pdf')\n",
    "fig.write_image(f'{save_path}RMSD_all_atom_peptide_classification_sankey.jpeg',scale=3,\n",
    "        format='jpeg')\n",
    "fig.show()"
   ]
  },
  {
   "cell_type": "code",
   "execution_count": 31,
   "id": "ranging-graham",
   "metadata": {},
   "outputs": [
    {
     "data": {
      "application/vnd.plotly.v1+json": {
       "config": {
        "plotlyServerURL": "https://plot.ly"
       },
       "data": [
        {
         "arrangement": "snap",
         "link": {
          "source": [
           2,
           2,
           2,
           0,
           0,
           0,
           3,
           3,
           3,
           3,
           1,
           1,
           1
          ],
          "target": [
           6,
           4,
           5,
           6,
           4,
           5,
           6,
           4,
           7,
           5,
           6,
           4,
           5
          ],
          "value": [
           7,
           3,
           5,
           1,
           71,
           1,
           3,
           4,
           6,
           4,
           2,
           9,
           20
          ]
         },
         "node": {
          "color": [
           "#1F77B4",
           "#FF7F0E",
           "#2CA02C",
           "#D62728",
           "#1F77B4",
           "#FF7F0E",
           "#2CA02C",
           "#D62728"
          ],
          "label": [
           "v2.2: High",
           "v2.2: Medium",
           "v2.2: Acceptable",
           "v2.2: Incorrect",
           "v2.3: High",
           "v2.3: Medium",
           "v2.3: Acceptable",
           "v2.3: Incorrect"
          ],
          "line": {
           "color": "black",
           "width": 0.5
          },
          "pad": 15,
          "thickness": 20
         },
         "type": "sankey"
        }
       ],
       "layout": {
        "font": {
         "size": 12
        },
        "plot_bgcolor": "rgba(0,0,0,0)",
        "template": {
         "data": {
          "bar": [
           {
            "error_x": {
             "color": "#2a3f5f"
            },
            "error_y": {
             "color": "#2a3f5f"
            },
            "marker": {
             "line": {
              "color": "#E5ECF6",
              "width": 0.5
             },
             "pattern": {
              "fillmode": "overlay",
              "size": 10,
              "solidity": 0.2
             }
            },
            "type": "bar"
           }
          ],
          "barpolar": [
           {
            "marker": {
             "line": {
              "color": "#E5ECF6",
              "width": 0.5
             },
             "pattern": {
              "fillmode": "overlay",
              "size": 10,
              "solidity": 0.2
             }
            },
            "type": "barpolar"
           }
          ],
          "carpet": [
           {
            "aaxis": {
             "endlinecolor": "#2a3f5f",
             "gridcolor": "white",
             "linecolor": "white",
             "minorgridcolor": "white",
             "startlinecolor": "#2a3f5f"
            },
            "baxis": {
             "endlinecolor": "#2a3f5f",
             "gridcolor": "white",
             "linecolor": "white",
             "minorgridcolor": "white",
             "startlinecolor": "#2a3f5f"
            },
            "type": "carpet"
           }
          ],
          "choropleth": [
           {
            "colorbar": {
             "outlinewidth": 0,
             "ticks": ""
            },
            "type": "choropleth"
           }
          ],
          "contour": [
           {
            "colorbar": {
             "outlinewidth": 0,
             "ticks": ""
            },
            "colorscale": [
             [
              0,
              "#0d0887"
             ],
             [
              0.1111111111111111,
              "#46039f"
             ],
             [
              0.2222222222222222,
              "#7201a8"
             ],
             [
              0.3333333333333333,
              "#9c179e"
             ],
             [
              0.4444444444444444,
              "#bd3786"
             ],
             [
              0.5555555555555556,
              "#d8576b"
             ],
             [
              0.6666666666666666,
              "#ed7953"
             ],
             [
              0.7777777777777778,
              "#fb9f3a"
             ],
             [
              0.8888888888888888,
              "#fdca26"
             ],
             [
              1,
              "#f0f921"
             ]
            ],
            "type": "contour"
           }
          ],
          "contourcarpet": [
           {
            "colorbar": {
             "outlinewidth": 0,
             "ticks": ""
            },
            "type": "contourcarpet"
           }
          ],
          "heatmap": [
           {
            "colorbar": {
             "outlinewidth": 0,
             "ticks": ""
            },
            "colorscale": [
             [
              0,
              "#0d0887"
             ],
             [
              0.1111111111111111,
              "#46039f"
             ],
             [
              0.2222222222222222,
              "#7201a8"
             ],
             [
              0.3333333333333333,
              "#9c179e"
             ],
             [
              0.4444444444444444,
              "#bd3786"
             ],
             [
              0.5555555555555556,
              "#d8576b"
             ],
             [
              0.6666666666666666,
              "#ed7953"
             ],
             [
              0.7777777777777778,
              "#fb9f3a"
             ],
             [
              0.8888888888888888,
              "#fdca26"
             ],
             [
              1,
              "#f0f921"
             ]
            ],
            "type": "heatmap"
           }
          ],
          "heatmapgl": [
           {
            "colorbar": {
             "outlinewidth": 0,
             "ticks": ""
            },
            "colorscale": [
             [
              0,
              "#0d0887"
             ],
             [
              0.1111111111111111,
              "#46039f"
             ],
             [
              0.2222222222222222,
              "#7201a8"
             ],
             [
              0.3333333333333333,
              "#9c179e"
             ],
             [
              0.4444444444444444,
              "#bd3786"
             ],
             [
              0.5555555555555556,
              "#d8576b"
             ],
             [
              0.6666666666666666,
              "#ed7953"
             ],
             [
              0.7777777777777778,
              "#fb9f3a"
             ],
             [
              0.8888888888888888,
              "#fdca26"
             ],
             [
              1,
              "#f0f921"
             ]
            ],
            "type": "heatmapgl"
           }
          ],
          "histogram": [
           {
            "marker": {
             "pattern": {
              "fillmode": "overlay",
              "size": 10,
              "solidity": 0.2
             }
            },
            "type": "histogram"
           }
          ],
          "histogram2d": [
           {
            "colorbar": {
             "outlinewidth": 0,
             "ticks": ""
            },
            "colorscale": [
             [
              0,
              "#0d0887"
             ],
             [
              0.1111111111111111,
              "#46039f"
             ],
             [
              0.2222222222222222,
              "#7201a8"
             ],
             [
              0.3333333333333333,
              "#9c179e"
             ],
             [
              0.4444444444444444,
              "#bd3786"
             ],
             [
              0.5555555555555556,
              "#d8576b"
             ],
             [
              0.6666666666666666,
              "#ed7953"
             ],
             [
              0.7777777777777778,
              "#fb9f3a"
             ],
             [
              0.8888888888888888,
              "#fdca26"
             ],
             [
              1,
              "#f0f921"
             ]
            ],
            "type": "histogram2d"
           }
          ],
          "histogram2dcontour": [
           {
            "colorbar": {
             "outlinewidth": 0,
             "ticks": ""
            },
            "colorscale": [
             [
              0,
              "#0d0887"
             ],
             [
              0.1111111111111111,
              "#46039f"
             ],
             [
              0.2222222222222222,
              "#7201a8"
             ],
             [
              0.3333333333333333,
              "#9c179e"
             ],
             [
              0.4444444444444444,
              "#bd3786"
             ],
             [
              0.5555555555555556,
              "#d8576b"
             ],
             [
              0.6666666666666666,
              "#ed7953"
             ],
             [
              0.7777777777777778,
              "#fb9f3a"
             ],
             [
              0.8888888888888888,
              "#fdca26"
             ],
             [
              1,
              "#f0f921"
             ]
            ],
            "type": "histogram2dcontour"
           }
          ],
          "mesh3d": [
           {
            "colorbar": {
             "outlinewidth": 0,
             "ticks": ""
            },
            "type": "mesh3d"
           }
          ],
          "parcoords": [
           {
            "line": {
             "colorbar": {
              "outlinewidth": 0,
              "ticks": ""
             }
            },
            "type": "parcoords"
           }
          ],
          "pie": [
           {
            "automargin": true,
            "type": "pie"
           }
          ],
          "scatter": [
           {
            "fillpattern": {
             "fillmode": "overlay",
             "size": 10,
             "solidity": 0.2
            },
            "type": "scatter"
           }
          ],
          "scatter3d": [
           {
            "line": {
             "colorbar": {
              "outlinewidth": 0,
              "ticks": ""
             }
            },
            "marker": {
             "colorbar": {
              "outlinewidth": 0,
              "ticks": ""
             }
            },
            "type": "scatter3d"
           }
          ],
          "scattercarpet": [
           {
            "marker": {
             "colorbar": {
              "outlinewidth": 0,
              "ticks": ""
             }
            },
            "type": "scattercarpet"
           }
          ],
          "scattergeo": [
           {
            "marker": {
             "colorbar": {
              "outlinewidth": 0,
              "ticks": ""
             }
            },
            "type": "scattergeo"
           }
          ],
          "scattergl": [
           {
            "marker": {
             "colorbar": {
              "outlinewidth": 0,
              "ticks": ""
             }
            },
            "type": "scattergl"
           }
          ],
          "scattermapbox": [
           {
            "marker": {
             "colorbar": {
              "outlinewidth": 0,
              "ticks": ""
             }
            },
            "type": "scattermapbox"
           }
          ],
          "scatterpolar": [
           {
            "marker": {
             "colorbar": {
              "outlinewidth": 0,
              "ticks": ""
             }
            },
            "type": "scatterpolar"
           }
          ],
          "scatterpolargl": [
           {
            "marker": {
             "colorbar": {
              "outlinewidth": 0,
              "ticks": ""
             }
            },
            "type": "scatterpolargl"
           }
          ],
          "scatterternary": [
           {
            "marker": {
             "colorbar": {
              "outlinewidth": 0,
              "ticks": ""
             }
            },
            "type": "scatterternary"
           }
          ],
          "surface": [
           {
            "colorbar": {
             "outlinewidth": 0,
             "ticks": ""
            },
            "colorscale": [
             [
              0,
              "#0d0887"
             ],
             [
              0.1111111111111111,
              "#46039f"
             ],
             [
              0.2222222222222222,
              "#7201a8"
             ],
             [
              0.3333333333333333,
              "#9c179e"
             ],
             [
              0.4444444444444444,
              "#bd3786"
             ],
             [
              0.5555555555555556,
              "#d8576b"
             ],
             [
              0.6666666666666666,
              "#ed7953"
             ],
             [
              0.7777777777777778,
              "#fb9f3a"
             ],
             [
              0.8888888888888888,
              "#fdca26"
             ],
             [
              1,
              "#f0f921"
             ]
            ],
            "type": "surface"
           }
          ],
          "table": [
           {
            "cells": {
             "fill": {
              "color": "#EBF0F8"
             },
             "line": {
              "color": "white"
             }
            },
            "header": {
             "fill": {
              "color": "#C8D4E3"
             },
             "line": {
              "color": "white"
             }
            },
            "type": "table"
           }
          ]
         },
         "layout": {
          "annotationdefaults": {
           "arrowcolor": "#2a3f5f",
           "arrowhead": 0,
           "arrowwidth": 1
          },
          "autotypenumbers": "strict",
          "coloraxis": {
           "colorbar": {
            "outlinewidth": 0,
            "ticks": ""
           }
          },
          "colorscale": {
           "diverging": [
            [
             0,
             "#8e0152"
            ],
            [
             0.1,
             "#c51b7d"
            ],
            [
             0.2,
             "#de77ae"
            ],
            [
             0.3,
             "#f1b6da"
            ],
            [
             0.4,
             "#fde0ef"
            ],
            [
             0.5,
             "#f7f7f7"
            ],
            [
             0.6,
             "#e6f5d0"
            ],
            [
             0.7,
             "#b8e186"
            ],
            [
             0.8,
             "#7fbc41"
            ],
            [
             0.9,
             "#4d9221"
            ],
            [
             1,
             "#276419"
            ]
           ],
           "sequential": [
            [
             0,
             "#0d0887"
            ],
            [
             0.1111111111111111,
             "#46039f"
            ],
            [
             0.2222222222222222,
             "#7201a8"
            ],
            [
             0.3333333333333333,
             "#9c179e"
            ],
            [
             0.4444444444444444,
             "#bd3786"
            ],
            [
             0.5555555555555556,
             "#d8576b"
            ],
            [
             0.6666666666666666,
             "#ed7953"
            ],
            [
             0.7777777777777778,
             "#fb9f3a"
            ],
            [
             0.8888888888888888,
             "#fdca26"
            ],
            [
             1,
             "#f0f921"
            ]
           ],
           "sequentialminus": [
            [
             0,
             "#0d0887"
            ],
            [
             0.1111111111111111,
             "#46039f"
            ],
            [
             0.2222222222222222,
             "#7201a8"
            ],
            [
             0.3333333333333333,
             "#9c179e"
            ],
            [
             0.4444444444444444,
             "#bd3786"
            ],
            [
             0.5555555555555556,
             "#d8576b"
            ],
            [
             0.6666666666666666,
             "#ed7953"
            ],
            [
             0.7777777777777778,
             "#fb9f3a"
            ],
            [
             0.8888888888888888,
             "#fdca26"
            ],
            [
             1,
             "#f0f921"
            ]
           ]
          },
          "colorway": [
           "#636efa",
           "#EF553B",
           "#00cc96",
           "#ab63fa",
           "#FFA15A",
           "#19d3f3",
           "#FF6692",
           "#B6E880",
           "#FF97FF",
           "#FECB52"
          ],
          "font": {
           "color": "#2a3f5f"
          },
          "geo": {
           "bgcolor": "white",
           "lakecolor": "white",
           "landcolor": "#E5ECF6",
           "showlakes": true,
           "showland": true,
           "subunitcolor": "white"
          },
          "hoverlabel": {
           "align": "left"
          },
          "hovermode": "closest",
          "mapbox": {
           "style": "light"
          },
          "paper_bgcolor": "white",
          "plot_bgcolor": "#E5ECF6",
          "polar": {
           "angularaxis": {
            "gridcolor": "white",
            "linecolor": "white",
            "ticks": ""
           },
           "bgcolor": "#E5ECF6",
           "radialaxis": {
            "gridcolor": "white",
            "linecolor": "white",
            "ticks": ""
           }
          },
          "scene": {
           "xaxis": {
            "backgroundcolor": "#E5ECF6",
            "gridcolor": "white",
            "gridwidth": 2,
            "linecolor": "white",
            "showbackground": true,
            "ticks": "",
            "zerolinecolor": "white"
           },
           "yaxis": {
            "backgroundcolor": "#E5ECF6",
            "gridcolor": "white",
            "gridwidth": 2,
            "linecolor": "white",
            "showbackground": true,
            "ticks": "",
            "zerolinecolor": "white"
           },
           "zaxis": {
            "backgroundcolor": "#E5ECF6",
            "gridcolor": "white",
            "gridwidth": 2,
            "linecolor": "white",
            "showbackground": true,
            "ticks": "",
            "zerolinecolor": "white"
           }
          },
          "shapedefaults": {
           "line": {
            "color": "#2a3f5f"
           }
          },
          "ternary": {
           "aaxis": {
            "gridcolor": "white",
            "linecolor": "white",
            "ticks": ""
           },
           "baxis": {
            "gridcolor": "white",
            "linecolor": "white",
            "ticks": ""
           },
           "bgcolor": "#E5ECF6",
           "caxis": {
            "gridcolor": "white",
            "linecolor": "white",
            "ticks": ""
           }
          },
          "title": {
           "x": 0.05
          },
          "xaxis": {
           "automargin": true,
           "gridcolor": "white",
           "linecolor": "white",
           "ticks": "",
           "title": {
            "standoff": 15
           },
           "zerolinecolor": "white",
           "zerolinewidth": 2
          },
          "yaxis": {
           "automargin": true,
           "gridcolor": "white",
           "linecolor": "white",
           "ticks": "",
           "title": {
            "standoff": 15
           },
           "zerolinecolor": "white",
           "zerolinewidth": 2
          }
         }
        },
        "title": {
         "text": "Prediction accuracy change across versions of AlphaFold Multimer",
         "x": 0.5,
         "y": 0.85
        },
        "xaxis": {
         "tickfont": {
          "family": "Arial"
         },
         "title": {
          "font": {
           "family": "Arial"
          }
         }
        },
        "yaxis": {
         "tickfont": {
          "family": "Arial"
         },
         "title": {
          "font": {
           "family": "Arial"
          }
         }
        }
       }
      },
      "text/html": [
       "<div>                            <div id=\"fd2c84f3-676a-4f3b-b6b4-a7ef83ef6b79\" class=\"plotly-graph-div\" style=\"height:525px; width:100%;\"></div>            <script type=\"text/javascript\">                require([\"plotly\"], function(Plotly) {                    window.PLOTLYENV=window.PLOTLYENV || {};                                    if (document.getElementById(\"fd2c84f3-676a-4f3b-b6b4-a7ef83ef6b79\")) {                    Plotly.newPlot(                        \"fd2c84f3-676a-4f3b-b6b4-a7ef83ef6b79\",                        [{\"arrangement\":\"snap\",\"link\":{\"source\":[2,2,2,0,0,0,3,3,3,3,1,1,1],\"target\":[6,4,5,6,4,5,6,4,7,5,6,4,5],\"value\":[7,3,5,1,71,1,3,4,6,4,2,9,20]},\"node\":{\"color\":[\"#1F77B4\",\"#FF7F0E\",\"#2CA02C\",\"#D62728\",\"#1F77B4\",\"#FF7F0E\",\"#2CA02C\",\"#D62728\"],\"label\":[\"v2.2: High\",\"v2.2: Medium\",\"v2.2: Acceptable\",\"v2.2: Incorrect\",\"v2.3: High\",\"v2.3: Medium\",\"v2.3: Acceptable\",\"v2.3: Incorrect\"],\"line\":{\"color\":\"black\",\"width\":0.5},\"pad\":15,\"thickness\":20},\"type\":\"sankey\"}],                        {\"template\":{\"data\":{\"histogram2dcontour\":[{\"type\":\"histogram2dcontour\",\"colorbar\":{\"outlinewidth\":0,\"ticks\":\"\"},\"colorscale\":[[0.0,\"#0d0887\"],[0.1111111111111111,\"#46039f\"],[0.2222222222222222,\"#7201a8\"],[0.3333333333333333,\"#9c179e\"],[0.4444444444444444,\"#bd3786\"],[0.5555555555555556,\"#d8576b\"],[0.6666666666666666,\"#ed7953\"],[0.7777777777777778,\"#fb9f3a\"],[0.8888888888888888,\"#fdca26\"],[1.0,\"#f0f921\"]]}],\"choropleth\":[{\"type\":\"choropleth\",\"colorbar\":{\"outlinewidth\":0,\"ticks\":\"\"}}],\"histogram2d\":[{\"type\":\"histogram2d\",\"colorbar\":{\"outlinewidth\":0,\"ticks\":\"\"},\"colorscale\":[[0.0,\"#0d0887\"],[0.1111111111111111,\"#46039f\"],[0.2222222222222222,\"#7201a8\"],[0.3333333333333333,\"#9c179e\"],[0.4444444444444444,\"#bd3786\"],[0.5555555555555556,\"#d8576b\"],[0.6666666666666666,\"#ed7953\"],[0.7777777777777778,\"#fb9f3a\"],[0.8888888888888888,\"#fdca26\"],[1.0,\"#f0f921\"]]}],\"heatmap\":[{\"type\":\"heatmap\",\"colorbar\":{\"outlinewidth\":0,\"ticks\":\"\"},\"colorscale\":[[0.0,\"#0d0887\"],[0.1111111111111111,\"#46039f\"],[0.2222222222222222,\"#7201a8\"],[0.3333333333333333,\"#9c179e\"],[0.4444444444444444,\"#bd3786\"],[0.5555555555555556,\"#d8576b\"],[0.6666666666666666,\"#ed7953\"],[0.7777777777777778,\"#fb9f3a\"],[0.8888888888888888,\"#fdca26\"],[1.0,\"#f0f921\"]]}],\"heatmapgl\":[{\"type\":\"heatmapgl\",\"colorbar\":{\"outlinewidth\":0,\"ticks\":\"\"},\"colorscale\":[[0.0,\"#0d0887\"],[0.1111111111111111,\"#46039f\"],[0.2222222222222222,\"#7201a8\"],[0.3333333333333333,\"#9c179e\"],[0.4444444444444444,\"#bd3786\"],[0.5555555555555556,\"#d8576b\"],[0.6666666666666666,\"#ed7953\"],[0.7777777777777778,\"#fb9f3a\"],[0.8888888888888888,\"#fdca26\"],[1.0,\"#f0f921\"]]}],\"contourcarpet\":[{\"type\":\"contourcarpet\",\"colorbar\":{\"outlinewidth\":0,\"ticks\":\"\"}}],\"contour\":[{\"type\":\"contour\",\"colorbar\":{\"outlinewidth\":0,\"ticks\":\"\"},\"colorscale\":[[0.0,\"#0d0887\"],[0.1111111111111111,\"#46039f\"],[0.2222222222222222,\"#7201a8\"],[0.3333333333333333,\"#9c179e\"],[0.4444444444444444,\"#bd3786\"],[0.5555555555555556,\"#d8576b\"],[0.6666666666666666,\"#ed7953\"],[0.7777777777777778,\"#fb9f3a\"],[0.8888888888888888,\"#fdca26\"],[1.0,\"#f0f921\"]]}],\"surface\":[{\"type\":\"surface\",\"colorbar\":{\"outlinewidth\":0,\"ticks\":\"\"},\"colorscale\":[[0.0,\"#0d0887\"],[0.1111111111111111,\"#46039f\"],[0.2222222222222222,\"#7201a8\"],[0.3333333333333333,\"#9c179e\"],[0.4444444444444444,\"#bd3786\"],[0.5555555555555556,\"#d8576b\"],[0.6666666666666666,\"#ed7953\"],[0.7777777777777778,\"#fb9f3a\"],[0.8888888888888888,\"#fdca26\"],[1.0,\"#f0f921\"]]}],\"mesh3d\":[{\"type\":\"mesh3d\",\"colorbar\":{\"outlinewidth\":0,\"ticks\":\"\"}}],\"scatter\":[{\"fillpattern\":{\"fillmode\":\"overlay\",\"size\":10,\"solidity\":0.2},\"type\":\"scatter\"}],\"parcoords\":[{\"type\":\"parcoords\",\"line\":{\"colorbar\":{\"outlinewidth\":0,\"ticks\":\"\"}}}],\"scatterpolargl\":[{\"type\":\"scatterpolargl\",\"marker\":{\"colorbar\":{\"outlinewidth\":0,\"ticks\":\"\"}}}],\"bar\":[{\"error_x\":{\"color\":\"#2a3f5f\"},\"error_y\":{\"color\":\"#2a3f5f\"},\"marker\":{\"line\":{\"color\":\"#E5ECF6\",\"width\":0.5},\"pattern\":{\"fillmode\":\"overlay\",\"size\":10,\"solidity\":0.2}},\"type\":\"bar\"}],\"scattergeo\":[{\"type\":\"scattergeo\",\"marker\":{\"colorbar\":{\"outlinewidth\":0,\"ticks\":\"\"}}}],\"scatterpolar\":[{\"type\":\"scatterpolar\",\"marker\":{\"colorbar\":{\"outlinewidth\":0,\"ticks\":\"\"}}}],\"histogram\":[{\"marker\":{\"pattern\":{\"fillmode\":\"overlay\",\"size\":10,\"solidity\":0.2}},\"type\":\"histogram\"}],\"scattergl\":[{\"type\":\"scattergl\",\"marker\":{\"colorbar\":{\"outlinewidth\":0,\"ticks\":\"\"}}}],\"scatter3d\":[{\"type\":\"scatter3d\",\"line\":{\"colorbar\":{\"outlinewidth\":0,\"ticks\":\"\"}},\"marker\":{\"colorbar\":{\"outlinewidth\":0,\"ticks\":\"\"}}}],\"scattermapbox\":[{\"type\":\"scattermapbox\",\"marker\":{\"colorbar\":{\"outlinewidth\":0,\"ticks\":\"\"}}}],\"scatterternary\":[{\"type\":\"scatterternary\",\"marker\":{\"colorbar\":{\"outlinewidth\":0,\"ticks\":\"\"}}}],\"scattercarpet\":[{\"type\":\"scattercarpet\",\"marker\":{\"colorbar\":{\"outlinewidth\":0,\"ticks\":\"\"}}}],\"carpet\":[{\"aaxis\":{\"endlinecolor\":\"#2a3f5f\",\"gridcolor\":\"white\",\"linecolor\":\"white\",\"minorgridcolor\":\"white\",\"startlinecolor\":\"#2a3f5f\"},\"baxis\":{\"endlinecolor\":\"#2a3f5f\",\"gridcolor\":\"white\",\"linecolor\":\"white\",\"minorgridcolor\":\"white\",\"startlinecolor\":\"#2a3f5f\"},\"type\":\"carpet\"}],\"table\":[{\"cells\":{\"fill\":{\"color\":\"#EBF0F8\"},\"line\":{\"color\":\"white\"}},\"header\":{\"fill\":{\"color\":\"#C8D4E3\"},\"line\":{\"color\":\"white\"}},\"type\":\"table\"}],\"barpolar\":[{\"marker\":{\"line\":{\"color\":\"#E5ECF6\",\"width\":0.5},\"pattern\":{\"fillmode\":\"overlay\",\"size\":10,\"solidity\":0.2}},\"type\":\"barpolar\"}],\"pie\":[{\"automargin\":true,\"type\":\"pie\"}]},\"layout\":{\"autotypenumbers\":\"strict\",\"colorway\":[\"#636efa\",\"#EF553B\",\"#00cc96\",\"#ab63fa\",\"#FFA15A\",\"#19d3f3\",\"#FF6692\",\"#B6E880\",\"#FF97FF\",\"#FECB52\"],\"font\":{\"color\":\"#2a3f5f\"},\"hovermode\":\"closest\",\"hoverlabel\":{\"align\":\"left\"},\"paper_bgcolor\":\"white\",\"plot_bgcolor\":\"#E5ECF6\",\"polar\":{\"bgcolor\":\"#E5ECF6\",\"angularaxis\":{\"gridcolor\":\"white\",\"linecolor\":\"white\",\"ticks\":\"\"},\"radialaxis\":{\"gridcolor\":\"white\",\"linecolor\":\"white\",\"ticks\":\"\"}},\"ternary\":{\"bgcolor\":\"#E5ECF6\",\"aaxis\":{\"gridcolor\":\"white\",\"linecolor\":\"white\",\"ticks\":\"\"},\"baxis\":{\"gridcolor\":\"white\",\"linecolor\":\"white\",\"ticks\":\"\"},\"caxis\":{\"gridcolor\":\"white\",\"linecolor\":\"white\",\"ticks\":\"\"}},\"coloraxis\":{\"colorbar\":{\"outlinewidth\":0,\"ticks\":\"\"}},\"colorscale\":{\"sequential\":[[0.0,\"#0d0887\"],[0.1111111111111111,\"#46039f\"],[0.2222222222222222,\"#7201a8\"],[0.3333333333333333,\"#9c179e\"],[0.4444444444444444,\"#bd3786\"],[0.5555555555555556,\"#d8576b\"],[0.6666666666666666,\"#ed7953\"],[0.7777777777777778,\"#fb9f3a\"],[0.8888888888888888,\"#fdca26\"],[1.0,\"#f0f921\"]],\"sequentialminus\":[[0.0,\"#0d0887\"],[0.1111111111111111,\"#46039f\"],[0.2222222222222222,\"#7201a8\"],[0.3333333333333333,\"#9c179e\"],[0.4444444444444444,\"#bd3786\"],[0.5555555555555556,\"#d8576b\"],[0.6666666666666666,\"#ed7953\"],[0.7777777777777778,\"#fb9f3a\"],[0.8888888888888888,\"#fdca26\"],[1.0,\"#f0f921\"]],\"diverging\":[[0,\"#8e0152\"],[0.1,\"#c51b7d\"],[0.2,\"#de77ae\"],[0.3,\"#f1b6da\"],[0.4,\"#fde0ef\"],[0.5,\"#f7f7f7\"],[0.6,\"#e6f5d0\"],[0.7,\"#b8e186\"],[0.8,\"#7fbc41\"],[0.9,\"#4d9221\"],[1,\"#276419\"]]},\"xaxis\":{\"gridcolor\":\"white\",\"linecolor\":\"white\",\"ticks\":\"\",\"title\":{\"standoff\":15},\"zerolinecolor\":\"white\",\"automargin\":true,\"zerolinewidth\":2},\"yaxis\":{\"gridcolor\":\"white\",\"linecolor\":\"white\",\"ticks\":\"\",\"title\":{\"standoff\":15},\"zerolinecolor\":\"white\",\"automargin\":true,\"zerolinewidth\":2},\"scene\":{\"xaxis\":{\"backgroundcolor\":\"#E5ECF6\",\"gridcolor\":\"white\",\"linecolor\":\"white\",\"showbackground\":true,\"ticks\":\"\",\"zerolinecolor\":\"white\",\"gridwidth\":2},\"yaxis\":{\"backgroundcolor\":\"#E5ECF6\",\"gridcolor\":\"white\",\"linecolor\":\"white\",\"showbackground\":true,\"ticks\":\"\",\"zerolinecolor\":\"white\",\"gridwidth\":2},\"zaxis\":{\"backgroundcolor\":\"#E5ECF6\",\"gridcolor\":\"white\",\"linecolor\":\"white\",\"showbackground\":true,\"ticks\":\"\",\"zerolinecolor\":\"white\",\"gridwidth\":2}},\"shapedefaults\":{\"line\":{\"color\":\"#2a3f5f\"}},\"annotationdefaults\":{\"arrowcolor\":\"#2a3f5f\",\"arrowhead\":0,\"arrowwidth\":1},\"geo\":{\"bgcolor\":\"white\",\"landcolor\":\"#E5ECF6\",\"subunitcolor\":\"white\",\"showland\":true,\"showlakes\":true,\"lakecolor\":\"white\"},\"title\":{\"x\":0.05},\"mapbox\":{\"style\":\"light\"}}},\"title\":{\"text\":\"Prediction accuracy change across versions of AlphaFold Multimer\",\"x\":0.5,\"y\":0.85},\"font\":{\"size\":12},\"xaxis\":{\"tickfont\":{\"family\":\"Arial\"},\"title\":{\"font\":{\"family\":\"Arial\"}}},\"yaxis\":{\"tickfont\":{\"family\":\"Arial\"},\"title\":{\"font\":{\"family\":\"Arial\"}}},\"plot_bgcolor\":\"rgba(0,0,0,0)\"},                        {\"responsive\": true}                    ).then(function(){\n",
       "                            \n",
       "var gd = document.getElementById('fd2c84f3-676a-4f3b-b6b4-a7ef83ef6b79');\n",
       "var x = new MutationObserver(function (mutations, observer) {{\n",
       "        var display = window.getComputedStyle(gd).display;\n",
       "        if (!display || display === 'none') {{\n",
       "            console.log([gd, 'removed!']);\n",
       "            Plotly.purge(gd);\n",
       "            observer.disconnect();\n",
       "        }}\n",
       "}});\n",
       "\n",
       "// Listen for the removal of the full notebook cells\n",
       "var notebookContainer = gd.closest('#notebook-container');\n",
       "if (notebookContainer) {{\n",
       "    x.observe(notebookContainer, {childList: true});\n",
       "}}\n",
       "\n",
       "// Listen for the clearing of the current output cell\n",
       "var outputEl = gd.closest('.output');\n",
       "if (outputEl) {{\n",
       "    x.observe(outputEl, {childList: true});\n",
       "}}\n",
       "\n",
       "                        })                };                });            </script>        </div>"
      ]
     },
     "metadata": {},
     "output_type": "display_data"
    }
   ],
   "source": [
    "# plot sankey diagram using Plotly\n",
    "temp = df.groupby(['DockQ_classification_run37','DockQ_classification_run48']).size()\n",
    "temp = temp.reset_index(name='count')\n",
    "\n",
    "\n",
    "# set up node translation dict\n",
    "node_dict = {'High':0,'Medium':1,'Acceptable':2,'Incorrect':3}\n",
    "\n",
    "fig = go.Figure(go.Sankey(\n",
    "    arrangement=\"snap\",\n",
    "    node=dict(\n",
    "        pad=15,\n",
    "        thickness=20,\n",
    "        line=dict(color=\"black\", width=0.5),\n",
    "        label=['v2.2: High','v2.2: Medium','v2.2: Acceptable','v2.2: Incorrect',\n",
    "              'v2.3: High','v2.3: Medium','v2.3: Acceptable','v2.3: Incorrect'],\n",
    "        color=[\"#1F77B4\", \"#FF7F0E\", \"#2CA02C\", \"#D62728\",\n",
    "               \"#1F77B4\", \"#FF7F0E\", \"#2CA02C\", \"#D62728\"],\n",
    "    ),\n",
    "    link=dict(\n",
    "        source=[node_dict.get(ele) for ele in temp['DockQ_classification_run37']],  # Indices correspond to labels\n",
    "        target=[node_dict.get(ele)+len(node_dict) for ele in temp['DockQ_classification_run48']], # target indice are same as source, just one iteration later\n",
    "        value=temp['count'].to_list()\n",
    "    )))\n",
    "\n",
    "fig.update_layout(title_text=\"Prediction accuracy change across versions of AlphaFold Multimer\",\n",
    "                  font_size=global_fontsize,title=dict(x=0.5,y=0.85),\n",
    "                  xaxis=dict(tickfont=dict(family='Arial'),titlefont=dict(family='Arial')),\n",
    "                  yaxis=dict(tickfont=dict(family='Arial'),titlefont=dict(family='Arial')),\n",
    "                  plot_bgcolor=\"rgba(0,0,0,0)\")  # Set plot background to transparent\n",
    "\n",
    "fig.write_image(f'{save_path}DockQ_classification_sankey.pdf',\n",
    "        format='pdf')\n",
    "fig.write_image(f'{save_path}DockQ_classification_sankey.jpeg',scale=3,\n",
    "        format='jpeg')\n",
    "fig.show()"
   ]
  },
  {
   "cell_type": "code",
   "execution_count": 11,
   "id": "cheap-fairy",
   "metadata": {},
   "outputs": [
    {
     "data": {
      "image/png": "[encoded data removed]",
      "text/plain": [
       "<Figure size 216x216 with 1 Axes>"
      ]
     },
     "metadata": {
      "needs_background": "light"
     },
     "output_type": "display_data"
    }
   ],
   "source": [
    "# make a scatterplot to see how the same DMI type is predicted with different accuracy or AlphaFold metrics\n",
    "\n",
    "fig, ax = plt.subplots(figsize=figsize)\n",
    "ax.scatter(df['RMSD_all_atom_peptide_run48'], df['RMSD_all_atom_peptide_run37'], alpha=0.5,linewidths=0)\n",
    "ax.axline([0,0],[1,1],linestyle='--',color='red',alpha=0.3)\n",
    "# modify_ticks_and_labels(ax, x_major_multiple=10, x_minor_multiple=5, y_major_multiple=10, y_minor_multiple=5)\n",
    "plt.ylim([-1,46])\n",
    "plt.xlim([-1,46])\n",
    "plt.xticks(fontsize=global_fontsize)\n",
    "plt.yticks(fontsize=global_fontsize)\n",
    "\n",
    "plt.title('Peptide all atom RMSD (Å)',fontsize=global_fontsize)\n",
    "plt.ylabel('AlphaFold MMv2.2', fontsize=global_fontsize)\n",
    "plt.xlabel('AlphaFold MMv2.3', fontsize=global_fontsize)\n",
    "\n",
    "plt.savefig(f'{save_path}all_atom_RMSD_peptide_MMv2.2_MMv2.3.pdf',\n",
    "           transparent=True,bbox_inches='tight')\n",
    "plt.savefig(f'{save_path}all_atom_RMSD_peptide_MMv2.2_MMv2.3.jpeg',dpi=300,\n",
    "           transparent=True,bbox_inches='tight')"
   ]
  },
  {
   "cell_type": "code",
   "execution_count": 9,
   "id": "offshore-tracy",
   "metadata": {},
   "outputs": [
    {
     "name": "stdout",
     "output_type": "stream",
     "text": [
      "degree of freedom: 135\n",
      "WilcoxonResult(statistic=2413.0, pvalue=1.0796824594264182e-06)\n"
     ]
    }
   ],
   "source": [
    "print(f\"degree of freedom: {len(df['RMSD_all_atom_peptide_run37'])-1}\\n{sp.wilcoxon(df['RMSD_all_atom_peptide_run37'],df['RMSD_all_atom_peptide_run48'])}\")"
   ]
  },
  {
   "cell_type": "code",
   "execution_count": 12,
   "id": "shared-george",
   "metadata": {},
   "outputs": [
    {
     "data": {
      "image/png": "[encoded data removed]",
      "text/plain": [
       "<Figure size 216x216 with 1 Axes>"
      ]
     },
     "metadata": {
      "needs_background": "light"
     },
     "output_type": "display_data"
    }
   ],
   "source": [
    "# make a scatterplot to see how the same DMI type is predicted with different accuracy or AlphaFold metrics\n",
    "\n",
    "fig, ax = plt.subplots(figsize=figsize)\n",
    "ax.scatter(df['RMSD_backbone_peptide_run48'], df['RMSD_backbone_peptide_run37'], alpha=0.5,linewidths=0)\n",
    "ax.axline([0,0],[1,1],linestyle='--',color='red',alpha=0.3)\n",
    "# modify_ticks_and_labels(ax, x_major_multiple=10, x_minor_multiple=5, y_major_multiple=10, y_minor_multiple=5)\n",
    "plt.ylim([-1,46])\n",
    "plt.xlim([-1,46])\n",
    "plt.xticks(fontsize=global_fontsize)\n",
    "plt.yticks(fontsize=global_fontsize)\n",
    "\n",
    "plt.title('Peptide backbone RMSD (Å)',fontsize=global_fontsize)\n",
    "plt.ylabel('AlphaFold MMv2.2', fontsize=global_fontsize)\n",
    "plt.xlabel('AlphaFold MMv2.3', fontsize=global_fontsize)\n",
    "\n",
    "plt.savefig(f'{save_path}backbone_RMSD_peptide_MMv2.2_MMv2.3.pdf',\n",
    "           transparent=True,bbox_inches='tight')\n",
    "plt.savefig(f'{save_path}backbone_RMSD_peptide_MMv2.2_MMv2.3.jpeg',dpi=300,\n",
    "           transparent=True,bbox_inches='tight')"
   ]
  },
  {
   "cell_type": "code",
   "execution_count": 13,
   "id": "collective-queens",
   "metadata": {},
   "outputs": [
    {
     "data": {
      "image/png": "[encoded data removed]",
      "text/plain": [
       "<Figure size 216x216 with 1 Axes>"
      ]
     },
     "metadata": {
      "needs_background": "light"
     },
     "output_type": "display_data"
    }
   ],
   "source": [
    "# make a scatterplot to see how the same DMI type is predicted with different accuracy or AlphaFold metrics\n",
    "\n",
    "fig, ax = plt.subplots(figsize=figsize)\n",
    "ax.scatter(df['DockQ_run48'], df['DockQ_run37'], alpha=0.5,linewidths=0)\n",
    "ax.axline([0,0],[1,1],linestyle='--',color='red',alpha=0.3)\n",
    "modify_ticks_and_labels(ax, x_major_multiple=0.2, x_minor_multiple=0.2)\n",
    "plt.ylim([-0.05,1.05])\n",
    "plt.xlim([-0.05,1.05])\n",
    "plt.xticks(fontsize=global_fontsize)\n",
    "plt.yticks(fontsize=global_fontsize)\n",
    "\n",
    "plt.title('DockQ',fontsize=global_fontsize)\n",
    "plt.ylabel('AlphaFold MMv2.2', fontsize=global_fontsize)\n",
    "plt.xlabel('AlphaFold MMv2.3', fontsize=global_fontsize)\n",
    "\n",
    "plt.savefig(f'{save_path}DockQ_MMv2.2_MMv2.3.pdf',\n",
    "           transparent=True,bbox_inches='tight')\n",
    "plt.savefig(f'{save_path}DockQ_MMv2.2_MMv2.3.jpeg',dpi=300,\n",
    "           transparent=True,bbox_inches='tight')"
   ]
  },
  {
   "cell_type": "code",
   "execution_count": 10,
   "id": "alternate-volleyball",
   "metadata": {},
   "outputs": [
    {
     "name": "stdout",
     "output_type": "stream",
     "text": [
      "degree of freedom: 135\n",
      "WilcoxonResult(statistic=2160.0, pvalue=1.544141525705221e-07)\n"
     ]
    }
   ],
   "source": [
    "print(f\"degree of freedom: {len(df['RMSD_all_atom_peptide_run37'])-1}\\n{sp.wilcoxon(df['DockQ_run37'],df['DockQ_run48'])}\")"
   ]
  },
  {
   "cell_type": "code",
   "execution_count": 14,
   "id": "opposite-jewel",
   "metadata": {},
   "outputs": [
    {
     "data": {
      "image/png": "[encoded data removed]",
      "text/plain": [
       "<Figure size 216x216 with 1 Axes>"
      ]
     },
     "metadata": {
      "needs_background": "light"
     },
     "output_type": "display_data"
    }
   ],
   "source": [
    "# make a scatterplot to see how the same DMI type is predicted with different accuracy or AlphaFold metrics\n",
    "\n",
    "fig, ax = plt.subplots(figsize=figsize)\n",
    "ax.scatter(df['model_confidence_run48'], df['model_confidence_run37'], alpha=0.5,linewidths=0)\n",
    "ax.axline([0,0],[1,1],linestyle='--',color='red',alpha=0.3)\n",
    "modify_ticks_and_labels(ax, x_major_multiple=0.2, x_minor_multiple=0.2)\n",
    "plt.ylim([-0.05,1.05])\n",
    "plt.xlim([-0.05,1.05])\n",
    "plt.xticks(fontsize=global_fontsize)\n",
    "plt.yticks(fontsize=global_fontsize)\n",
    "\n",
    "plt.title('Model confidence',fontsize=global_fontsize)\n",
    "plt.ylabel('AlphaFold MMv2.2', fontsize=global_fontsize)\n",
    "plt.xlabel('AlphaFold MMv2.3', fontsize=global_fontsize)\n",
    "\n",
    "plt.savefig(f'{save_path}model_confidence_MMv2.2_MMv2.3.pdf',\n",
    "           transparent=True,bbox_inches='tight')\n",
    "plt.savefig(f'{save_path}model_confidence_MMv2.2_MMv2.3.jpeg',dpi=300,\n",
    "           transparent=True,bbox_inches='tight')"
   ]
  },
  {
   "cell_type": "code",
   "execution_count": 15,
   "id": "loose-comment",
   "metadata": {},
   "outputs": [
    {
     "data": {
      "image/png": "[encoded data removed]",
      "text/plain": [
       "<Figure size 216x216 with 1 Axes>"
      ]
     },
     "metadata": {
      "needs_background": "light"
     },
     "output_type": "display_data"
    }
   ],
   "source": [
    "# make a scatterplot to see how the same DMI type is predicted with different accuracy or AlphaFold metrics\n",
    "\n",
    "fig, ax = plt.subplots(figsize=figsize)\n",
    "ax.scatter(df['chainB_intf_avg_plddt_run48'], df['chainB_intf_avg_plddt_run37'], alpha=0.5,linewidths=0)\n",
    "ax.axline([0,0],[1,1],linestyle='--',color='red',alpha=0.3)\n",
    "modify_ticks_and_labels(ax, x_major_multiple=20, x_minor_multiple=20)\n",
    "plt.ylim([-0.5,100.5])\n",
    "plt.xlim([-0.5,100.5])\n",
    "plt.xticks(fontsize=global_fontsize)\n",
    "plt.yticks(fontsize=global_fontsize)\n",
    "\n",
    "plt.title('Motif chain interface pLDDT',fontsize=global_fontsize)\n",
    "plt.ylabel('AlphaFold MMv2.2', fontsize=global_fontsize)\n",
    "plt.xlabel('AlphaFold MMv2.3', fontsize=global_fontsize)\n",
    "\n",
    "plt.savefig(f'{save_path}motif_chain_interface_plddt_MMv2.2_MMv2.3.pdf',\n",
    "           transparent=True,bbox_inches='tight')\n",
    "plt.savefig(f'{save_path}motif_chain_interface_plddt_MMv2.2_MMv2.3.jpeg',dpi=300,\n",
    "           transparent=True,bbox_inches='tight')"
   ]
  },
  {
   "cell_type": "code",
   "execution_count": null,
   "id": "breeding-philip",
   "metadata": {},
   "outputs": [],
   "source": []
  }
 ],
 "metadata": {
  "kernelspec": {
   "display_name": "Python 3",
   "language": "python",
   "name": "python3"
  },
  "language_info": {
   "codemirror_mode": {
    "name": "ipython",
    "version": 3
   },
   "file_extension": ".py",
   "mimetype": "text/x-python",
   "name": "python",
   "nbconvert_exporter": "python",
   "pygments_lexer": "ipython3",
   "version": "3.9.16"
  }
 },
 "nbformat": 4,
 "nbformat_minor": 5
}
